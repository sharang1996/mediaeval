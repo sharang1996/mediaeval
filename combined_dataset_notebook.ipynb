{
 "cells": [
  {
   "cell_type": "code",
   "execution_count": 3,
   "metadata": {
    "ExecuteTime": {
     "end_time": "2021-01-08T05:29:18.981738Z",
     "start_time": "2021-01-08T05:29:18.690574Z"
    }
   },
   "outputs": [],
   "source": [
    "import pandas as pd"
   ]
  },
  {
   "cell_type": "code",
   "execution_count": 1,
   "metadata": {
    "ExecuteTime": {
     "end_time": "2021-01-05T00:10:01.050002Z",
     "start_time": "2021-01-05T00:10:01.009981Z"
    }
   },
   "outputs": [],
   "source": [
    "f = open('mediaeval-2015-trainingset.txt').read().split('\\n')"
   ]
  },
  {
   "cell_type": "code",
   "execution_count": 2,
   "metadata": {
    "ExecuteTime": {
     "end_time": "2021-01-05T00:12:33.395357Z",
     "start_time": "2021-01-05T00:11:22.053066Z"
    }
   },
   "outputs": [],
   "source": [
    "f[1].split('\\t')\n",
    "headers = f[0].split('\\t')\n",
    "data_list = []\n",
    "for tweet in f:\n",
    "    t = tweet.split('\\t')\n",
    "    data_list.append(t)\n",
    "import pandas as pd\n",
    "df = pd.DataFrame(columns=headers)\n",
    "for i in range(len(data_list)):\n",
    "   df.loc[i] = data_list[i]\n",
    "df = df.iloc[1:]"
   ]
  },
  {
   "cell_type": "code",
   "execution_count": 3,
   "metadata": {
    "ExecuteTime": {
     "end_time": "2021-01-05T00:12:33.427891Z",
     "start_time": "2021-01-05T00:12:33.402798Z"
    }
   },
   "outputs": [
    {
     "data": {
      "text/html": [
       "<div>\n",
       "<style scoped>\n",
       "    .dataframe tbody tr th:only-of-type {\n",
       "        vertical-align: middle;\n",
       "    }\n",
       "\n",
       "    .dataframe tbody tr th {\n",
       "        vertical-align: top;\n",
       "    }\n",
       "\n",
       "    .dataframe thead th {\n",
       "        text-align: right;\n",
       "    }\n",
       "</style>\n",
       "<table border=\"1\" class=\"dataframe\">\n",
       "  <thead>\n",
       "    <tr style=\"text-align: right;\">\n",
       "      <th></th>\n",
       "      <th>tweetId</th>\n",
       "      <th>tweetText</th>\n",
       "      <th>userId</th>\n",
       "      <th>imageId(s)</th>\n",
       "      <th>username</th>\n",
       "      <th>timestamp</th>\n",
       "      <th>label</th>\n",
       "    </tr>\n",
       "  </thead>\n",
       "  <tbody>\n",
       "    <tr>\n",
       "      <th>1</th>\n",
       "      <td>263046056240115712</td>\n",
       "      <td>¿Se acuerdan de la película: “El día después d...</td>\n",
       "      <td>21226711</td>\n",
       "      <td>sandyA_fake_46</td>\n",
       "      <td>iAnnieM</td>\n",
       "      <td>Mon Oct 29 22:34:01 +0000 2012</td>\n",
       "      <td>fake</td>\n",
       "    </tr>\n",
       "    <tr>\n",
       "      <th>2</th>\n",
       "      <td>262995061304852481</td>\n",
       "      <td>@milenagimon: Miren a Sandy en NY!  Tremenda i...</td>\n",
       "      <td>192378571</td>\n",
       "      <td>sandyA_fake_09</td>\n",
       "      <td>CarlosVerareal</td>\n",
       "      <td>Mon Oct 29 19:11:23 +0000 2012</td>\n",
       "      <td>fake</td>\n",
       "    </tr>\n",
       "    <tr>\n",
       "      <th>3</th>\n",
       "      <td>262979898002534400</td>\n",
       "      <td>Buena la foto del Huracán Sandy, me recuerda a...</td>\n",
       "      <td>132303095</td>\n",
       "      <td>sandyA_fake_09</td>\n",
       "      <td>LucasPalape</td>\n",
       "      <td>Mon Oct 29 18:11:08 +0000 2012</td>\n",
       "      <td>fake</td>\n",
       "    </tr>\n",
       "    <tr>\n",
       "      <th>4</th>\n",
       "      <td>262996108400271360</td>\n",
       "      <td>Scary shit #hurricane #NY http://t.co/e4JLBUfH</td>\n",
       "      <td>241995902</td>\n",
       "      <td>sandyA_fake_29</td>\n",
       "      <td>Haaaaarryyy</td>\n",
       "      <td>Mon Oct 29 19:15:33 +0000 2012</td>\n",
       "      <td>fake</td>\n",
       "    </tr>\n",
       "    <tr>\n",
       "      <th>5</th>\n",
       "      <td>263018881839411200</td>\n",
       "      <td>My fave place in the world #nyc #hurricane #sa...</td>\n",
       "      <td>250315890</td>\n",
       "      <td>sandyA_fake_15</td>\n",
       "      <td>princess__natt</td>\n",
       "      <td>Mon Oct 29 20:46:02 +0000 2012</td>\n",
       "      <td>fake</td>\n",
       "    </tr>\n",
       "  </tbody>\n",
       "</table>\n",
       "</div>"
      ],
      "text/plain": [
       "              tweetId                                          tweetText  \\\n",
       "1  263046056240115712  ¿Se acuerdan de la película: “El día después d...   \n",
       "2  262995061304852481  @milenagimon: Miren a Sandy en NY!  Tremenda i...   \n",
       "3  262979898002534400  Buena la foto del Huracán Sandy, me recuerda a...   \n",
       "4  262996108400271360     Scary shit #hurricane #NY http://t.co/e4JLBUfH   \n",
       "5  263018881839411200  My fave place in the world #nyc #hurricane #sa...   \n",
       "\n",
       "      userId      imageId(s)        username                       timestamp  \\\n",
       "1   21226711  sandyA_fake_46         iAnnieM  Mon Oct 29 22:34:01 +0000 2012   \n",
       "2  192378571  sandyA_fake_09  CarlosVerareal  Mon Oct 29 19:11:23 +0000 2012   \n",
       "3  132303095  sandyA_fake_09     LucasPalape  Mon Oct 29 18:11:08 +0000 2012   \n",
       "4  241995902  sandyA_fake_29     Haaaaarryyy  Mon Oct 29 19:15:33 +0000 2012   \n",
       "5  250315890  sandyA_fake_15  princess__natt  Mon Oct 29 20:46:02 +0000 2012   \n",
       "\n",
       "  label  \n",
       "1  fake  \n",
       "2  fake  \n",
       "3  fake  \n",
       "4  fake  \n",
       "5  fake  "
      ]
     },
     "execution_count": 3,
     "metadata": {},
     "output_type": "execute_result"
    }
   ],
   "source": [
    "df.head()"
   ]
  },
  {
   "cell_type": "code",
   "execution_count": 5,
   "metadata": {
    "ExecuteTime": {
     "end_time": "2021-01-05T00:14:30.568319Z",
     "start_time": "2021-01-05T00:14:30.562235Z"
    }
   },
   "outputs": [
    {
     "data": {
      "text/plain": [
       "(14483, 7)"
      ]
     },
     "execution_count": 5,
     "metadata": {},
     "output_type": "execute_result"
    }
   ],
   "source": [
    "df.shape"
   ]
  },
  {
   "cell_type": "code",
   "execution_count": 6,
   "metadata": {
    "ExecuteTime": {
     "end_time": "2021-01-05T00:17:48.745142Z",
     "start_time": "2021-01-05T00:17:46.917141Z"
    }
   },
   "outputs": [],
   "source": [
    "fake = 0\n",
    "true = 0\n",
    "for index, row in df.iterrows():\n",
    "   if row['label'] == 'fake':\n",
    "       fake = fake + 1\n",
    "   else:\n",
    "      true = true + 1"
   ]
  },
  {
   "cell_type": "code",
   "execution_count": 7,
   "metadata": {
    "ExecuteTime": {
     "end_time": "2021-01-05T00:17:53.118920Z",
     "start_time": "2021-01-05T00:17:53.114285Z"
    }
   },
   "outputs": [
    {
     "data": {
      "text/plain": [
       "(6841, 7642)"
      ]
     },
     "execution_count": 7,
     "metadata": {},
     "output_type": "execute_result"
    }
   ],
   "source": [
    "fake, true"
   ]
  },
  {
   "cell_type": "code",
   "execution_count": 8,
   "metadata": {
    "ExecuteTime": {
     "end_time": "2021-01-05T00:26:57.570870Z",
     "start_time": "2021-01-05T00:26:57.564389Z"
    }
   },
   "outputs": [
    {
     "data": {
      "text/plain": [
       "0.8951845066736457"
      ]
     },
     "execution_count": 8,
     "metadata": {},
     "output_type": "execute_result"
    }
   ],
   "source": [
    "fake/true"
   ]
  },
  {
   "cell_type": "code",
   "execution_count": 9,
   "metadata": {
    "ExecuteTime": {
     "end_time": "2021-01-05T00:27:51.975950Z",
     "start_time": "2021-01-05T00:27:51.971101Z"
    }
   },
   "outputs": [
    {
     "data": {
      "text/plain": [
       "2.1068200493015614"
      ]
     },
     "execution_count": 9,
     "metadata": {},
     "output_type": "execute_result"
    }
   ],
   "source": [
    "2564/1217"
   ]
  },
  {
   "cell_type": "code",
   "execution_count": 2,
   "metadata": {
    "ExecuteTime": {
     "end_time": "2021-01-06T01:35:47.955148Z",
     "start_time": "2021-01-06T01:35:47.906489Z"
    }
   },
   "outputs": [],
   "source": [
    "f1 = open('mediaeval-2015-trainingset.txt').read().split('\\n')\n",
    "f2 = open('mediaeval-2015-testset.txt').read().split('\\n')"
   ]
  },
  {
   "cell_type": "code",
   "execution_count": 3,
   "metadata": {
    "ExecuteTime": {
     "end_time": "2021-01-06T01:35:48.968356Z",
     "start_time": "2021-01-06T01:35:48.963617Z"
    }
   },
   "outputs": [],
   "source": [
    "headers = f1[0].split('\\t')"
   ]
  },
  {
   "cell_type": "code",
   "execution_count": 4,
   "metadata": {
    "ExecuteTime": {
     "end_time": "2021-01-06T01:35:49.608709Z",
     "start_time": "2021-01-06T01:35:49.605333Z"
    }
   },
   "outputs": [],
   "source": [
    "f = f1[1:] + f2[1:]"
   ]
  },
  {
   "cell_type": "code",
   "execution_count": 5,
   "metadata": {
    "ExecuteTime": {
     "end_time": "2021-01-06T01:37:24.604283Z",
     "start_time": "2021-01-06T01:35:50.647092Z"
    }
   },
   "outputs": [],
   "source": [
    "data_list = []\n",
    "\n",
    "for tweet in f:\n",
    "    t = tweet.split('\\t')\n",
    "    data_list.append(t)\n",
    "\n",
    "df = pd.DataFrame(columns=headers)\n",
    "\n",
    "for i in range(len(data_list)):\n",
    "   df.loc[i] = data_list[i]\n",
    "\n",
    "df = df.iloc[1:]"
   ]
  },
  {
   "cell_type": "code",
   "execution_count": 6,
   "metadata": {
    "ExecuteTime": {
     "end_time": "2021-01-06T01:37:24.634707Z",
     "start_time": "2021-01-06T01:37:24.608294Z"
    }
   },
   "outputs": [
    {
     "data": {
      "text/html": [
       "<div>\n",
       "<style scoped>\n",
       "    .dataframe tbody tr th:only-of-type {\n",
       "        vertical-align: middle;\n",
       "    }\n",
       "\n",
       "    .dataframe tbody tr th {\n",
       "        vertical-align: top;\n",
       "    }\n",
       "\n",
       "    .dataframe thead th {\n",
       "        text-align: right;\n",
       "    }\n",
       "</style>\n",
       "<table border=\"1\" class=\"dataframe\">\n",
       "  <thead>\n",
       "    <tr style=\"text-align: right;\">\n",
       "      <th></th>\n",
       "      <th>tweetId</th>\n",
       "      <th>tweetText</th>\n",
       "      <th>userId</th>\n",
       "      <th>imageId(s)</th>\n",
       "      <th>username</th>\n",
       "      <th>timestamp</th>\n",
       "      <th>label</th>\n",
       "    </tr>\n",
       "  </thead>\n",
       "  <tbody>\n",
       "    <tr>\n",
       "      <th>1</th>\n",
       "      <td>262995061304852481</td>\n",
       "      <td>@milenagimon: Miren a Sandy en NY!  Tremenda i...</td>\n",
       "      <td>192378571</td>\n",
       "      <td>sandyA_fake_09</td>\n",
       "      <td>CarlosVerareal</td>\n",
       "      <td>Mon Oct 29 19:11:23 +0000 2012</td>\n",
       "      <td>fake</td>\n",
       "    </tr>\n",
       "    <tr>\n",
       "      <th>2</th>\n",
       "      <td>262979898002534400</td>\n",
       "      <td>Buena la foto del Huracán Sandy, me recuerda a...</td>\n",
       "      <td>132303095</td>\n",
       "      <td>sandyA_fake_09</td>\n",
       "      <td>LucasPalape</td>\n",
       "      <td>Mon Oct 29 18:11:08 +0000 2012</td>\n",
       "      <td>fake</td>\n",
       "    </tr>\n",
       "    <tr>\n",
       "      <th>3</th>\n",
       "      <td>262996108400271360</td>\n",
       "      <td>Scary shit #hurricane #NY http://t.co/e4JLBUfH</td>\n",
       "      <td>241995902</td>\n",
       "      <td>sandyA_fake_29</td>\n",
       "      <td>Haaaaarryyy</td>\n",
       "      <td>Mon Oct 29 19:15:33 +0000 2012</td>\n",
       "      <td>fake</td>\n",
       "    </tr>\n",
       "    <tr>\n",
       "      <th>4</th>\n",
       "      <td>263018881839411200</td>\n",
       "      <td>My fave place in the world #nyc #hurricane #sa...</td>\n",
       "      <td>250315890</td>\n",
       "      <td>sandyA_fake_15</td>\n",
       "      <td>princess__natt</td>\n",
       "      <td>Mon Oct 29 20:46:02 +0000 2012</td>\n",
       "      <td>fake</td>\n",
       "    </tr>\n",
       "    <tr>\n",
       "      <th>5</th>\n",
       "      <td>263364439582060545</td>\n",
       "      <td>42nd #time #square #NYC #subway #hurricane htt...</td>\n",
       "      <td>163674788</td>\n",
       "      <td>sandyA_fake_23</td>\n",
       "      <td>classycg</td>\n",
       "      <td>Tue Oct 30 19:39:10 +0000 2012</td>\n",
       "      <td>fake</td>\n",
       "    </tr>\n",
       "  </tbody>\n",
       "</table>\n",
       "</div>"
      ],
      "text/plain": [
       "              tweetId                                          tweetText  \\\n",
       "1  262995061304852481  @milenagimon: Miren a Sandy en NY!  Tremenda i...   \n",
       "2  262979898002534400  Buena la foto del Huracán Sandy, me recuerda a...   \n",
       "3  262996108400271360     Scary shit #hurricane #NY http://t.co/e4JLBUfH   \n",
       "4  263018881839411200  My fave place in the world #nyc #hurricane #sa...   \n",
       "5  263364439582060545  42nd #time #square #NYC #subway #hurricane htt...   \n",
       "\n",
       "      userId      imageId(s)        username                       timestamp  \\\n",
       "1  192378571  sandyA_fake_09  CarlosVerareal  Mon Oct 29 19:11:23 +0000 2012   \n",
       "2  132303095  sandyA_fake_09     LucasPalape  Mon Oct 29 18:11:08 +0000 2012   \n",
       "3  241995902  sandyA_fake_29     Haaaaarryyy  Mon Oct 29 19:15:33 +0000 2012   \n",
       "4  250315890  sandyA_fake_15  princess__natt  Mon Oct 29 20:46:02 +0000 2012   \n",
       "5  163674788  sandyA_fake_23        classycg  Tue Oct 30 19:39:10 +0000 2012   \n",
       "\n",
       "  label  \n",
       "1  fake  \n",
       "2  fake  \n",
       "3  fake  \n",
       "4  fake  \n",
       "5  fake  "
      ]
     },
     "execution_count": 6,
     "metadata": {},
     "output_type": "execute_result"
    }
   ],
   "source": [
    "df.head()"
   ]
  },
  {
   "cell_type": "code",
   "execution_count": 7,
   "metadata": {
    "ExecuteTime": {
     "end_time": "2021-01-06T01:37:24.648211Z",
     "start_time": "2021-01-06T01:37:24.639478Z"
    }
   },
   "outputs": [
    {
     "data": {
      "text/plain": [
       "(18263, 7)"
      ]
     },
     "execution_count": 7,
     "metadata": {},
     "output_type": "execute_result"
    }
   ],
   "source": [
    "df.shape"
   ]
  },
  {
   "cell_type": "code",
   "execution_count": 8,
   "metadata": {
    "ExecuteTime": {
     "end_time": "2021-01-06T01:37:27.036348Z",
     "start_time": "2021-01-06T01:37:24.650508Z"
    }
   },
   "outputs": [],
   "source": [
    "fake = 0\n",
    "true = 0\n",
    "for index, row in df.iterrows():\n",
    "   if row['label'] == 'fake':\n",
    "       fake = fake + 1\n",
    "   else:\n",
    "      true = true + 1"
   ]
  },
  {
   "cell_type": "code",
   "execution_count": 9,
   "metadata": {
    "ExecuteTime": {
     "end_time": "2021-01-06T01:37:27.047815Z",
     "start_time": "2021-01-06T01:37:27.039583Z"
    }
   },
   "outputs": [
    {
     "data": {
      "text/plain": [
       "(9404, 8859)"
      ]
     },
     "execution_count": 9,
     "metadata": {},
     "output_type": "execute_result"
    }
   ],
   "source": [
    "fake,true"
   ]
  },
  {
   "cell_type": "code",
   "execution_count": 10,
   "metadata": {
    "ExecuteTime": {
     "end_time": "2021-01-06T01:37:27.084208Z",
     "start_time": "2021-01-06T01:37:27.050323Z"
    }
   },
   "outputs": [
    {
     "data": {
      "text/plain": [
       "True"
      ]
     },
     "execution_count": 10,
     "metadata": {},
     "output_type": "execute_result"
    }
   ],
   "source": [
    "from better_profanity import profanity\n",
    "dirty_text = \"That l3sbi4n did a very good H4ndjob.\"\n",
    "profanity.contains_profanity(dirty_text)"
   ]
  },
  {
   "cell_type": "code",
   "execution_count": 11,
   "metadata": {
    "ExecuteTime": {
     "end_time": "2021-01-06T01:57:29.429885Z",
     "start_time": "2021-01-06T01:57:28.629605Z"
    }
   },
   "outputs": [],
   "source": [
    "import re\n",
    "from textblob import TextBlob\n",
    "import pointofview\n",
    "from better_profanity import profanity\n",
    "\n",
    "def get_word_count(row):\n",
    "    tweet = row[1]\n",
    "    return len(tweet.split(' '))\n",
    "\n",
    "def get_character_count(row):\n",
    "    tweet = row[1]\n",
    "    return len(tweet)\n",
    "\n",
    "def get_question_count(row):\n",
    "    tweet = row[1]\n",
    "    return tweet.count('?')\n",
    "\n",
    "def get_exclaimation_count(row):\n",
    "    tweet = row[1]\n",
    "    return tweet.count('!')\n",
    "\n",
    "def has_colon(row):\n",
    "    tweet = row[1]\n",
    "    if tweet.find(':') != -1:\n",
    "        return 1\n",
    "    else:\n",
    "        return 0\n",
    "        \n",
    "def get_mention_count(row):\n",
    "    tweet = row[1]\n",
    "    return tweet.count('@')\n",
    "    \n",
    "def get_hashtag_count(row):\n",
    "    tweet = row[1]\n",
    "    return tweet.count('#')\n",
    "\n",
    "def get_url_count(row):\n",
    "    tweet = row[1]\n",
    "    return len(re.findall('http[s]?://(?:[a-zA-Z]|[0-9]|[$-_@.&+]|[!*\\(\\),]|(?:%[0-9a-fA-F][0-9a-fA-F]))+', tweet))\n",
    "    \n",
    "def get_polarity(row):\n",
    "    tweet = row[1]\n",
    "    return (TextBlob(tweet)).sentiment[0]\n",
    "\n",
    "def get_subjectivity(row):\n",
    "    tweet = row[1]\n",
    "    return (TextBlob(tweet)).sentiment[1]\n",
    "    \n",
    "def get_first_pronouns(row):\n",
    "    tweet = row[1]\n",
    "    return len(pointofview.parse_pov_words(tweet)['first'])\n",
    "    \n",
    "def get_second_pronouns(row):\n",
    "    tweet = row[1]\n",
    "    return len(pointofview.parse_pov_words(tweet)['second'])\n",
    "    \n",
    "def get_third_pronouns(row):\n",
    "    tweet = row[1]\n",
    "    return len(pointofview.parse_pov_words(tweet)['third'])\n",
    "\n",
    "def has_profanity(row):\n",
    "    tweet = row[1]\n",
    "    if profanity.contains_profanity(tweet):\n",
    "        return 1\n",
    "    else:\n",
    "        return 0\n",
    "\n",
    "def get_via_count(row):\n",
    "    tweet = row[1]\n",
    "    return tweet.lower().count('via')\n",
    "\n",
    "def get_uppercase_chars(row):\n",
    "    tweet = row[1]\n",
    "    return len(re.findall(r'[A-Z]',tweet))"
   ]
  },
  {
   "cell_type": "code",
   "execution_count": 12,
   "metadata": {
    "ExecuteTime": {
     "end_time": "2021-01-06T02:11:44.822285Z",
     "start_time": "2021-01-06T01:57:32.631334Z"
    }
   },
   "outputs": [],
   "source": [
    "df['word_count'] = df.apply(lambda row: get_word_count(row), axis=1)\n",
    "df['character_count'] = df.apply(lambda row: get_character_count(row), axis=1)\n",
    "df['uppercase_count'] = df.apply(lambda row: get_uppercase_chars(row), axis=1)\n",
    "df['question_count'] = df.apply(lambda row: get_question_count(row), axis=1)\n",
    "df['exclaimation_count'] = df.apply(lambda row: get_exclaimation_count(row), axis=1)\n",
    "df['mention_count'] = df.apply(lambda row: get_mention_count(row), axis=1)\n",
    "df['hashtag_count'] = df.apply(lambda row: get_hashtag_count(row), axis=1)\n",
    "df['url_count'] = df.apply(lambda row: get_url_count(row), axis=1)\n",
    "df['polarity'] = df.apply(lambda row: get_polarity(row), axis=1)\n",
    "df['subjectivity'] = df.apply(lambda row: get_subjectivity(row), axis=1)\n",
    "df['first_pronoun_count'] = df.apply(lambda row: get_first_pronouns(row), axis=1)\n",
    "df['second_pronoun_count'] = df.apply(lambda row: get_second_pronouns(row), axis=1)\n",
    "df['third_pronoun_count'] = df.apply(lambda row: get_third_pronouns(row), axis=1)\n",
    "df['via_count'] = df.apply(lambda row: get_via_count(row), axis=1)\n",
    "df['has_profanity'] = df.apply(lambda row: has_profanity(row), axis=1)\n",
    "df['has_colon'] = df.apply(lambda row: has_colon(row), axis=1)"
   ]
  },
  {
   "cell_type": "code",
   "execution_count": 13,
   "metadata": {
    "ExecuteTime": {
     "end_time": "2021-01-06T02:29:41.594410Z",
     "start_time": "2021-01-06T02:29:41.568921Z"
    }
   },
   "outputs": [],
   "source": [
    "df.drop('tweetId', axis=1, inplace=True)\n",
    "df.drop('timestamp', axis=1, inplace=True)\n",
    "df.drop('userId', axis=1, inplace=True)\n",
    "df.drop('imageId(s)', axis=1, inplace=True)\n",
    "df.drop('username', axis=1, inplace=True)"
   ]
  },
  {
   "cell_type": "code",
   "execution_count": 14,
   "metadata": {
    "ExecuteTime": {
     "end_time": "2021-01-06T02:29:42.971548Z",
     "start_time": "2021-01-06T02:29:42.941228Z"
    }
   },
   "outputs": [
    {
     "data": {
      "text/html": [
       "<div>\n",
       "<style scoped>\n",
       "    .dataframe tbody tr th:only-of-type {\n",
       "        vertical-align: middle;\n",
       "    }\n",
       "\n",
       "    .dataframe tbody tr th {\n",
       "        vertical-align: top;\n",
       "    }\n",
       "\n",
       "    .dataframe thead th {\n",
       "        text-align: right;\n",
       "    }\n",
       "</style>\n",
       "<table border=\"1\" class=\"dataframe\">\n",
       "  <thead>\n",
       "    <tr style=\"text-align: right;\">\n",
       "      <th></th>\n",
       "      <th>tweetText</th>\n",
       "      <th>label</th>\n",
       "      <th>word_count</th>\n",
       "      <th>character_count</th>\n",
       "      <th>uppercase_count</th>\n",
       "      <th>question_count</th>\n",
       "      <th>exclaimation_count</th>\n",
       "      <th>mention_count</th>\n",
       "      <th>hashtag_count</th>\n",
       "      <th>url_count</th>\n",
       "      <th>polarity</th>\n",
       "      <th>subjectivity</th>\n",
       "      <th>first_pronoun_count</th>\n",
       "      <th>second_pronoun_count</th>\n",
       "      <th>third_pronoun_count</th>\n",
       "      <th>via_count</th>\n",
       "      <th>has_profanity</th>\n",
       "      <th>has_colon</th>\n",
       "    </tr>\n",
       "  </thead>\n",
       "  <tbody>\n",
       "    <tr>\n",
       "      <th>1</th>\n",
       "      <td>@milenagimon: Miren a Sandy en NY!  Tremenda i...</td>\n",
       "      <td>fake</td>\n",
       "      <td>21</td>\n",
       "      <td>133</td>\n",
       "      <td>15</td>\n",
       "      <td>0</td>\n",
       "      <td>2</td>\n",
       "      <td>1</td>\n",
       "      <td>0</td>\n",
       "      <td>1</td>\n",
       "      <td>0.250000</td>\n",
       "      <td>0.300000</td>\n",
       "      <td>0</td>\n",
       "      <td>0</td>\n",
       "      <td>0</td>\n",
       "      <td>0</td>\n",
       "      <td>0</td>\n",
       "      <td>1</td>\n",
       "    </tr>\n",
       "    <tr>\n",
       "      <th>2</th>\n",
       "      <td>Buena la foto del Huracán Sandy, me recuerda a...</td>\n",
       "      <td>fake</td>\n",
       "      <td>19</td>\n",
       "      <td>116</td>\n",
       "      <td>15</td>\n",
       "      <td>0</td>\n",
       "      <td>0</td>\n",
       "      <td>0</td>\n",
       "      <td>2</td>\n",
       "      <td>1</td>\n",
       "      <td>0.000000</td>\n",
       "      <td>0.000000</td>\n",
       "      <td>1</td>\n",
       "      <td>0</td>\n",
       "      <td>0</td>\n",
       "      <td>0</td>\n",
       "      <td>0</td>\n",
       "      <td>1</td>\n",
       "    </tr>\n",
       "    <tr>\n",
       "      <th>3</th>\n",
       "      <td>Scary shit #hurricane #NY http://t.co/e4JLBUfH</td>\n",
       "      <td>fake</td>\n",
       "      <td>5</td>\n",
       "      <td>46</td>\n",
       "      <td>8</td>\n",
       "      <td>0</td>\n",
       "      <td>0</td>\n",
       "      <td>0</td>\n",
       "      <td>2</td>\n",
       "      <td>1</td>\n",
       "      <td>-0.350000</td>\n",
       "      <td>0.900000</td>\n",
       "      <td>0</td>\n",
       "      <td>0</td>\n",
       "      <td>0</td>\n",
       "      <td>0</td>\n",
       "      <td>1</td>\n",
       "      <td>1</td>\n",
       "    </tr>\n",
       "    <tr>\n",
       "      <th>4</th>\n",
       "      <td>My fave place in the world #nyc #hurricane #sa...</td>\n",
       "      <td>fake</td>\n",
       "      <td>12</td>\n",
       "      <td>89</td>\n",
       "      <td>3</td>\n",
       "      <td>0</td>\n",
       "      <td>0</td>\n",
       "      <td>0</td>\n",
       "      <td>4</td>\n",
       "      <td>1</td>\n",
       "      <td>0.000000</td>\n",
       "      <td>0.000000</td>\n",
       "      <td>0</td>\n",
       "      <td>0</td>\n",
       "      <td>0</td>\n",
       "      <td>0</td>\n",
       "      <td>0</td>\n",
       "      <td>1</td>\n",
       "    </tr>\n",
       "    <tr>\n",
       "      <th>5</th>\n",
       "      <td>42nd #time #square #NYC #subway #hurricane htt...</td>\n",
       "      <td>fake</td>\n",
       "      <td>7</td>\n",
       "      <td>63</td>\n",
       "      <td>7</td>\n",
       "      <td>0</td>\n",
       "      <td>0</td>\n",
       "      <td>0</td>\n",
       "      <td>5</td>\n",
       "      <td>1</td>\n",
       "      <td>0.000000</td>\n",
       "      <td>0.000000</td>\n",
       "      <td>0</td>\n",
       "      <td>0</td>\n",
       "      <td>0</td>\n",
       "      <td>0</td>\n",
       "      <td>0</td>\n",
       "      <td>1</td>\n",
       "    </tr>\n",
       "    <tr>\n",
       "      <th>6</th>\n",
       "      <td>Just in time for #halloween a photo of #hurric...</td>\n",
       "      <td>fake</td>\n",
       "      <td>12</td>\n",
       "      <td>91</td>\n",
       "      <td>5</td>\n",
       "      <td>0</td>\n",
       "      <td>0</td>\n",
       "      <td>0</td>\n",
       "      <td>4</td>\n",
       "      <td>1</td>\n",
       "      <td>0.000000</td>\n",
       "      <td>0.000000</td>\n",
       "      <td>0</td>\n",
       "      <td>0</td>\n",
       "      <td>0</td>\n",
       "      <td>0</td>\n",
       "      <td>0</td>\n",
       "      <td>1</td>\n",
       "    </tr>\n",
       "    <tr>\n",
       "      <th>7</th>\n",
       "      <td>Crazy pic of #Hurricane #Sandy prayers go out ...</td>\n",
       "      <td>fake</td>\n",
       "      <td>17</td>\n",
       "      <td>106</td>\n",
       "      <td>6</td>\n",
       "      <td>0</td>\n",
       "      <td>0</td>\n",
       "      <td>0</td>\n",
       "      <td>2</td>\n",
       "      <td>1</td>\n",
       "      <td>-0.600000</td>\n",
       "      <td>0.900000</td>\n",
       "      <td>0</td>\n",
       "      <td>0</td>\n",
       "      <td>0</td>\n",
       "      <td>0</td>\n",
       "      <td>0</td>\n",
       "      <td>1</td>\n",
       "    </tr>\n",
       "    <tr>\n",
       "      <th>8</th>\n",
       "      <td>#sandy #newyork #hurricane #statueofliberty #U...</td>\n",
       "      <td>fake</td>\n",
       "      <td>6</td>\n",
       "      <td>69</td>\n",
       "      <td>7</td>\n",
       "      <td>0</td>\n",
       "      <td>0</td>\n",
       "      <td>0</td>\n",
       "      <td>5</td>\n",
       "      <td>1</td>\n",
       "      <td>0.000000</td>\n",
       "      <td>0.000000</td>\n",
       "      <td>0</td>\n",
       "      <td>0</td>\n",
       "      <td>0</td>\n",
       "      <td>0</td>\n",
       "      <td>0</td>\n",
       "      <td>1</td>\n",
       "    </tr>\n",
       "    <tr>\n",
       "      <th>9</th>\n",
       "      <td>#nyc #hurricane http://t.co/Gv3QxZlq</td>\n",
       "      <td>fake</td>\n",
       "      <td>3</td>\n",
       "      <td>36</td>\n",
       "      <td>3</td>\n",
       "      <td>0</td>\n",
       "      <td>0</td>\n",
       "      <td>0</td>\n",
       "      <td>2</td>\n",
       "      <td>1</td>\n",
       "      <td>0.000000</td>\n",
       "      <td>0.000000</td>\n",
       "      <td>0</td>\n",
       "      <td>0</td>\n",
       "      <td>0</td>\n",
       "      <td>0</td>\n",
       "      <td>0</td>\n",
       "      <td>1</td>\n",
       "    </tr>\n",
       "    <tr>\n",
       "      <th>10</th>\n",
       "      <td>robertosalibaba  god be with u brother #sandy ...</td>\n",
       "      <td>fake</td>\n",
       "      <td>11</td>\n",
       "      <td>86</td>\n",
       "      <td>4</td>\n",
       "      <td>0</td>\n",
       "      <td>0</td>\n",
       "      <td>0</td>\n",
       "      <td>3</td>\n",
       "      <td>1</td>\n",
       "      <td>0.000000</td>\n",
       "      <td>0.000000</td>\n",
       "      <td>0</td>\n",
       "      <td>0</td>\n",
       "      <td>0</td>\n",
       "      <td>0</td>\n",
       "      <td>1</td>\n",
       "      <td>1</td>\n",
       "    </tr>\n",
       "    <tr>\n",
       "      <th>11</th>\n",
       "      <td>#Crazy #Hurricane #Sandy http://t.co/0zrMsgvs</td>\n",
       "      <td>fake</td>\n",
       "      <td>4</td>\n",
       "      <td>45</td>\n",
       "      <td>4</td>\n",
       "      <td>0</td>\n",
       "      <td>0</td>\n",
       "      <td>0</td>\n",
       "      <td>3</td>\n",
       "      <td>1</td>\n",
       "      <td>-0.600000</td>\n",
       "      <td>0.900000</td>\n",
       "      <td>0</td>\n",
       "      <td>0</td>\n",
       "      <td>0</td>\n",
       "      <td>0</td>\n",
       "      <td>0</td>\n",
       "      <td>1</td>\n",
       "    </tr>\n",
       "    <tr>\n",
       "      <th>12</th>\n",
       "      <td>#shark #newjersey #swim #sandy #hurricane  ...</td>\n",
       "      <td>fake</td>\n",
       "      <td>7</td>\n",
       "      <td>66</td>\n",
       "      <td>3</td>\n",
       "      <td>0</td>\n",
       "      <td>0</td>\n",
       "      <td>0</td>\n",
       "      <td>5</td>\n",
       "      <td>1</td>\n",
       "      <td>0.000000</td>\n",
       "      <td>0.000000</td>\n",
       "      <td>0</td>\n",
       "      <td>0</td>\n",
       "      <td>0</td>\n",
       "      <td>0</td>\n",
       "      <td>0</td>\n",
       "      <td>1</td>\n",
       "    </tr>\n",
       "    <tr>\n",
       "      <th>13</th>\n",
       "      <td>Good luck #ny #newyork #usa #hurricane #sandy ...</td>\n",
       "      <td>fake</td>\n",
       "      <td>8</td>\n",
       "      <td>66</td>\n",
       "      <td>2</td>\n",
       "      <td>0</td>\n",
       "      <td>0</td>\n",
       "      <td>0</td>\n",
       "      <td>5</td>\n",
       "      <td>1</td>\n",
       "      <td>0.700000</td>\n",
       "      <td>0.600000</td>\n",
       "      <td>0</td>\n",
       "      <td>0</td>\n",
       "      <td>0</td>\n",
       "      <td>0</td>\n",
       "      <td>0</td>\n",
       "      <td>1</td>\n",
       "    </tr>\n",
       "    <tr>\n",
       "      <th>14</th>\n",
       "      <td>Wow.... Fishing anyone? #hurricane #sandy http...</td>\n",
       "      <td>fake</td>\n",
       "      <td>6</td>\n",
       "      <td>62</td>\n",
       "      <td>5</td>\n",
       "      <td>1</td>\n",
       "      <td>0</td>\n",
       "      <td>0</td>\n",
       "      <td>2</td>\n",
       "      <td>1</td>\n",
       "      <td>0.100000</td>\n",
       "      <td>1.000000</td>\n",
       "      <td>0</td>\n",
       "      <td>0</td>\n",
       "      <td>0</td>\n",
       "      <td>0</td>\n",
       "      <td>0</td>\n",
       "      <td>1</td>\n",
       "    </tr>\n",
       "    <tr>\n",
       "      <th>15</th>\n",
       "      <td>Well #howdy there #hurricane #sandy . Just wan...</td>\n",
       "      <td>fake</td>\n",
       "      <td>21</td>\n",
       "      <td>137</td>\n",
       "      <td>7</td>\n",
       "      <td>0</td>\n",
       "      <td>0</td>\n",
       "      <td>0</td>\n",
       "      <td>3</td>\n",
       "      <td>1</td>\n",
       "      <td>0.000000</td>\n",
       "      <td>0.000000</td>\n",
       "      <td>0</td>\n",
       "      <td>2</td>\n",
       "      <td>0</td>\n",
       "      <td>0</td>\n",
       "      <td>0</td>\n",
       "      <td>1</td>\n",
       "    </tr>\n",
       "    <tr>\n",
       "      <th>16</th>\n",
       "      <td>Just known this bcs of #jason #chen updated th...</td>\n",
       "      <td>fake</td>\n",
       "      <td>19</td>\n",
       "      <td>129</td>\n",
       "      <td>6</td>\n",
       "      <td>0</td>\n",
       "      <td>2</td>\n",
       "      <td>0</td>\n",
       "      <td>7</td>\n",
       "      <td>1</td>\n",
       "      <td>0.625000</td>\n",
       "      <td>0.500000</td>\n",
       "      <td>0</td>\n",
       "      <td>0</td>\n",
       "      <td>0</td>\n",
       "      <td>0</td>\n",
       "      <td>0</td>\n",
       "      <td>1</td>\n",
       "    </tr>\n",
       "    <tr>\n",
       "      <th>17</th>\n",
       "      <td>My thoughts and prayers go to all of the peopl...</td>\n",
       "      <td>fake</td>\n",
       "      <td>23</td>\n",
       "      <td>129</td>\n",
       "      <td>4</td>\n",
       "      <td>0</td>\n",
       "      <td>0</td>\n",
       "      <td>0</td>\n",
       "      <td>10</td>\n",
       "      <td>1</td>\n",
       "      <td>0.000000</td>\n",
       "      <td>0.000000</td>\n",
       "      <td>1</td>\n",
       "      <td>0</td>\n",
       "      <td>0</td>\n",
       "      <td>0</td>\n",
       "      <td>0</td>\n",
       "      <td>1</td>\n",
       "    </tr>\n",
       "    <tr>\n",
       "      <th>18</th>\n",
       "      <td>Stay safe my New York family...#nyc #newyork #...</td>\n",
       "      <td>fake</td>\n",
       "      <td>11</td>\n",
       "      <td>89</td>\n",
       "      <td>6</td>\n",
       "      <td>0</td>\n",
       "      <td>0</td>\n",
       "      <td>0</td>\n",
       "      <td>5</td>\n",
       "      <td>1</td>\n",
       "      <td>0.318182</td>\n",
       "      <td>0.477273</td>\n",
       "      <td>0</td>\n",
       "      <td>0</td>\n",
       "      <td>0</td>\n",
       "      <td>0</td>\n",
       "      <td>0</td>\n",
       "      <td>1</td>\n",
       "    </tr>\n",
       "    <tr>\n",
       "      <th>19</th>\n",
       "      <td>New York #hurricane #Sandy http://t.co/AnrR8u7t</td>\n",
       "      <td>fake</td>\n",
       "      <td>5</td>\n",
       "      <td>47</td>\n",
       "      <td>5</td>\n",
       "      <td>0</td>\n",
       "      <td>0</td>\n",
       "      <td>0</td>\n",
       "      <td>2</td>\n",
       "      <td>1</td>\n",
       "      <td>0.136364</td>\n",
       "      <td>0.454545</td>\n",
       "      <td>0</td>\n",
       "      <td>0</td>\n",
       "      <td>0</td>\n",
       "      <td>0</td>\n",
       "      <td>0</td>\n",
       "      <td>1</td>\n",
       "    </tr>\n",
       "    <tr>\n",
       "      <th>20</th>\n",
       "      <td>Probably the coolest pic of #hurricanesandy! #...</td>\n",
       "      <td>fake</td>\n",
       "      <td>12</td>\n",
       "      <td>116</td>\n",
       "      <td>5</td>\n",
       "      <td>0</td>\n",
       "      <td>1</td>\n",
       "      <td>0</td>\n",
       "      <td>6</td>\n",
       "      <td>1</td>\n",
       "      <td>0.000000</td>\n",
       "      <td>0.000000</td>\n",
       "      <td>0</td>\n",
       "      <td>0</td>\n",
       "      <td>0</td>\n",
       "      <td>0</td>\n",
       "      <td>0</td>\n",
       "      <td>1</td>\n",
       "    </tr>\n",
       "  </tbody>\n",
       "</table>\n",
       "</div>"
      ],
      "text/plain": [
       "                                            tweetText label  word_count  \\\n",
       "1   @milenagimon: Miren a Sandy en NY!  Tremenda i...  fake          21   \n",
       "2   Buena la foto del Huracán Sandy, me recuerda a...  fake          19   \n",
       "3      Scary shit #hurricane #NY http://t.co/e4JLBUfH  fake           5   \n",
       "4   My fave place in the world #nyc #hurricane #sa...  fake          12   \n",
       "5   42nd #time #square #NYC #subway #hurricane htt...  fake           7   \n",
       "6   Just in time for #halloween a photo of #hurric...  fake          12   \n",
       "7   Crazy pic of #Hurricane #Sandy prayers go out ...  fake          17   \n",
       "8   #sandy #newyork #hurricane #statueofliberty #U...  fake           6   \n",
       "9                #nyc #hurricane http://t.co/Gv3QxZlq  fake           3   \n",
       "10  robertosalibaba  god be with u brother #sandy ...  fake          11   \n",
       "11      #Crazy #Hurricane #Sandy http://t.co/0zrMsgvs  fake           4   \n",
       "12  #shark #newjersey #swim #sandy #hurricane  ...  fake           7   \n",
       "13  Good luck #ny #newyork #usa #hurricane #sandy ...  fake           8   \n",
       "14  Wow.... Fishing anyone? #hurricane #sandy http...  fake           6   \n",
       "15  Well #howdy there #hurricane #sandy . Just wan...  fake          21   \n",
       "16  Just known this bcs of #jason #chen updated th...  fake          19   \n",
       "17  My thoughts and prayers go to all of the peopl...  fake          23   \n",
       "18  Stay safe my New York family...#nyc #newyork #...  fake          11   \n",
       "19    New York #hurricane #Sandy http://t.co/AnrR8u7t  fake           5   \n",
       "20  Probably the coolest pic of #hurricanesandy! #...  fake          12   \n",
       "\n",
       "    character_count  uppercase_count  question_count  exclaimation_count  \\\n",
       "1               133               15               0                   2   \n",
       "2               116               15               0                   0   \n",
       "3                46                8               0                   0   \n",
       "4                89                3               0                   0   \n",
       "5                63                7               0                   0   \n",
       "6                91                5               0                   0   \n",
       "7               106                6               0                   0   \n",
       "8                69                7               0                   0   \n",
       "9                36                3               0                   0   \n",
       "10               86                4               0                   0   \n",
       "11               45                4               0                   0   \n",
       "12               66                3               0                   0   \n",
       "13               66                2               0                   0   \n",
       "14               62                5               1                   0   \n",
       "15              137                7               0                   0   \n",
       "16              129                6               0                   2   \n",
       "17              129                4               0                   0   \n",
       "18               89                6               0                   0   \n",
       "19               47                5               0                   0   \n",
       "20              116                5               0                   1   \n",
       "\n",
       "    mention_count  hashtag_count  url_count  polarity  subjectivity  \\\n",
       "1               1              0          1  0.250000      0.300000   \n",
       "2               0              2          1  0.000000      0.000000   \n",
       "3               0              2          1 -0.350000      0.900000   \n",
       "4               0              4          1  0.000000      0.000000   \n",
       "5               0              5          1  0.000000      0.000000   \n",
       "6               0              4          1  0.000000      0.000000   \n",
       "7               0              2          1 -0.600000      0.900000   \n",
       "8               0              5          1  0.000000      0.000000   \n",
       "9               0              2          1  0.000000      0.000000   \n",
       "10              0              3          1  0.000000      0.000000   \n",
       "11              0              3          1 -0.600000      0.900000   \n",
       "12              0              5          1  0.000000      0.000000   \n",
       "13              0              5          1  0.700000      0.600000   \n",
       "14              0              2          1  0.100000      1.000000   \n",
       "15              0              3          1  0.000000      0.000000   \n",
       "16              0              7          1  0.625000      0.500000   \n",
       "17              0             10          1  0.000000      0.000000   \n",
       "18              0              5          1  0.318182      0.477273   \n",
       "19              0              2          1  0.136364      0.454545   \n",
       "20              0              6          1  0.000000      0.000000   \n",
       "\n",
       "    first_pronoun_count  second_pronoun_count  third_pronoun_count  via_count  \\\n",
       "1                     0                     0                    0          0   \n",
       "2                     1                     0                    0          0   \n",
       "3                     0                     0                    0          0   \n",
       "4                     0                     0                    0          0   \n",
       "5                     0                     0                    0          0   \n",
       "6                     0                     0                    0          0   \n",
       "7                     0                     0                    0          0   \n",
       "8                     0                     0                    0          0   \n",
       "9                     0                     0                    0          0   \n",
       "10                    0                     0                    0          0   \n",
       "11                    0                     0                    0          0   \n",
       "12                    0                     0                    0          0   \n",
       "13                    0                     0                    0          0   \n",
       "14                    0                     0                    0          0   \n",
       "15                    0                     2                    0          0   \n",
       "16                    0                     0                    0          0   \n",
       "17                    1                     0                    0          0   \n",
       "18                    0                     0                    0          0   \n",
       "19                    0                     0                    0          0   \n",
       "20                    0                     0                    0          0   \n",
       "\n",
       "    has_profanity  has_colon  \n",
       "1               0          1  \n",
       "2               0          1  \n",
       "3               1          1  \n",
       "4               0          1  \n",
       "5               0          1  \n",
       "6               0          1  \n",
       "7               0          1  \n",
       "8               0          1  \n",
       "9               0          1  \n",
       "10              1          1  \n",
       "11              0          1  \n",
       "12              0          1  \n",
       "13              0          1  \n",
       "14              0          1  \n",
       "15              0          1  \n",
       "16              0          1  \n",
       "17              0          1  \n",
       "18              0          1  \n",
       "19              0          1  \n",
       "20              0          1  "
      ]
     },
     "execution_count": 14,
     "metadata": {},
     "output_type": "execute_result"
    }
   ],
   "source": [
    "df.head(20)"
   ]
  },
  {
   "cell_type": "code",
   "execution_count": 19,
   "metadata": {
    "ExecuteTime": {
     "end_time": "2021-01-06T02:34:28.853626Z",
     "start_time": "2021-01-06T02:34:28.847851Z"
    }
   },
   "outputs": [],
   "source": [
    "import numpy as np\n",
    "df[\"label_code\"] = np.where(df[\"label\"]=='real', 0, 1)"
   ]
  },
  {
   "cell_type": "code",
   "execution_count": 20,
   "metadata": {
    "ExecuteTime": {
     "end_time": "2021-01-06T02:34:29.652540Z",
     "start_time": "2021-01-06T02:34:29.633264Z"
    }
   },
   "outputs": [],
   "source": [
    "df.to_pickle('complete_dataset_features.pkl')"
   ]
  },
  {
   "cell_type": "code",
   "execution_count": 4,
   "metadata": {
    "ExecuteTime": {
     "end_time": "2021-01-08T05:29:45.425749Z",
     "start_time": "2021-01-08T05:29:45.407462Z"
    }
   },
   "outputs": [],
   "source": [
    "df = pd.read_pickle(\"complete_dataset_features.pkl\")"
   ]
  },
  {
   "cell_type": "code",
   "execution_count": 5,
   "metadata": {
    "ExecuteTime": {
     "end_time": "2021-01-08T05:29:46.724961Z",
     "start_time": "2021-01-08T05:29:46.689670Z"
    }
   },
   "outputs": [
    {
     "data": {
      "text/html": [
       "<div>\n",
       "<style scoped>\n",
       "    .dataframe tbody tr th:only-of-type {\n",
       "        vertical-align: middle;\n",
       "    }\n",
       "\n",
       "    .dataframe tbody tr th {\n",
       "        vertical-align: top;\n",
       "    }\n",
       "\n",
       "    .dataframe thead th {\n",
       "        text-align: right;\n",
       "    }\n",
       "</style>\n",
       "<table border=\"1\" class=\"dataframe\">\n",
       "  <thead>\n",
       "    <tr style=\"text-align: right;\">\n",
       "      <th></th>\n",
       "      <th>word_count</th>\n",
       "      <th>character_count</th>\n",
       "      <th>uppercase_count</th>\n",
       "      <th>question_count</th>\n",
       "      <th>exclaimation_count</th>\n",
       "      <th>mention_count</th>\n",
       "      <th>hashtag_count</th>\n",
       "      <th>url_count</th>\n",
       "      <th>polarity</th>\n",
       "      <th>subjectivity</th>\n",
       "      <th>first_pronoun_count</th>\n",
       "      <th>second_pronoun_count</th>\n",
       "      <th>third_pronoun_count</th>\n",
       "      <th>via_count</th>\n",
       "      <th>has_profanity</th>\n",
       "      <th>has_colon</th>\n",
       "    </tr>\n",
       "    <tr>\n",
       "      <th>label_code</th>\n",
       "      <th></th>\n",
       "      <th></th>\n",
       "      <th></th>\n",
       "      <th></th>\n",
       "      <th></th>\n",
       "      <th></th>\n",
       "      <th></th>\n",
       "      <th></th>\n",
       "      <th></th>\n",
       "      <th></th>\n",
       "      <th></th>\n",
       "      <th></th>\n",
       "      <th></th>\n",
       "      <th></th>\n",
       "      <th></th>\n",
       "      <th></th>\n",
       "    </tr>\n",
       "  </thead>\n",
       "  <tbody>\n",
       "    <tr>\n",
       "      <th>0</th>\n",
       "      <td>12.283970</td>\n",
       "      <td>96.973498</td>\n",
       "      <td>10.242853</td>\n",
       "      <td>0.039512</td>\n",
       "      <td>0.238998</td>\n",
       "      <td>0.433665</td>\n",
       "      <td>1.467555</td>\n",
       "      <td>1.070511</td>\n",
       "      <td>0.061378</td>\n",
       "      <td>0.327966</td>\n",
       "      <td>0.063444</td>\n",
       "      <td>0.038066</td>\n",
       "      <td>0.057661</td>\n",
       "      <td>0.069708</td>\n",
       "      <td>0.057180</td>\n",
       "      <td>1.000000</td>\n",
       "    </tr>\n",
       "    <tr>\n",
       "      <th>1</th>\n",
       "      <td>11.937858</td>\n",
       "      <td>91.434660</td>\n",
       "      <td>11.292349</td>\n",
       "      <td>0.086649</td>\n",
       "      <td>0.594833</td>\n",
       "      <td>0.307552</td>\n",
       "      <td>1.192739</td>\n",
       "      <td>1.039960</td>\n",
       "      <td>0.047788</td>\n",
       "      <td>0.301013</td>\n",
       "      <td>0.088228</td>\n",
       "      <td>0.042702</td>\n",
       "      <td>0.097450</td>\n",
       "      <td>0.041622</td>\n",
       "      <td>0.109246</td>\n",
       "      <td>0.999169</td>\n",
       "    </tr>\n",
       "  </tbody>\n",
       "</table>\n",
       "</div>"
      ],
      "text/plain": [
       "            word_count  character_count  uppercase_count  question_count  \\\n",
       "label_code                                                                 \n",
       "0            12.283970        96.973498        10.242853        0.039512   \n",
       "1            11.937858        91.434660        11.292349        0.086649   \n",
       "\n",
       "            exclaimation_count  mention_count  hashtag_count  url_count  \\\n",
       "label_code                                                                \n",
       "0                     0.238998       0.433665       1.467555   1.070511   \n",
       "1                     0.594833       0.307552       1.192739   1.039960   \n",
       "\n",
       "            polarity  subjectivity  first_pronoun_count  second_pronoun_count  \\\n",
       "label_code                                                                      \n",
       "0           0.061378      0.327966             0.063444              0.038066   \n",
       "1           0.047788      0.301013             0.088228              0.042702   \n",
       "\n",
       "            third_pronoun_count  via_count  has_profanity  has_colon  \n",
       "label_code                                                            \n",
       "0                      0.057661   0.069708       0.057180   1.000000  \n",
       "1                      0.097450   0.041622       0.109246   0.999169  "
      ]
     },
     "execution_count": 5,
     "metadata": {},
     "output_type": "execute_result"
    }
   ],
   "source": [
    "df.groupby('label_code').mean()"
   ]
  },
  {
   "cell_type": "code",
   "execution_count": 6,
   "metadata": {
    "ExecuteTime": {
     "end_time": "2021-01-08T05:30:22.194431Z",
     "start_time": "2021-01-08T05:29:47.702332Z"
    }
   },
   "outputs": [
    {
     "data": {
      "text/plain": [
       "word_count              12.055851\n",
       "character_count         93.322893\n",
       "uppercase_count         10.934567\n",
       "question_count           0.070580\n",
       "exclaimation_count       0.473526\n",
       "mention_count            0.350545\n",
       "hashtag_count            1.286426\n",
       "url_count                1.050375\n",
       "polarity                 0.052421\n",
       "subjectivity             0.310201\n",
       "first_pronoun_count      0.079779\n",
       "second_pronoun_count     0.041121\n",
       "third_pronoun_count      0.083885\n",
       "via_count                0.051196\n",
       "has_profanity            0.091496\n",
       "has_colon                0.999452\n",
       "label_code               0.659092\n",
       "dtype: float64"
      ]
     },
     "execution_count": 6,
     "metadata": {},
     "output_type": "execute_result"
    }
   ],
   "source": [
    "df.mean()"
   ]
  },
  {
   "cell_type": "code",
   "execution_count": 7,
   "metadata": {
    "ExecuteTime": {
     "end_time": "2021-01-08T05:30:22.206414Z",
     "start_time": "2021-01-08T05:30:22.198020Z"
    }
   },
   "outputs": [],
   "source": [
    "df_fake = df.loc[(df['label_code'] == 1)]\n",
    "df_real = df.loc[(df['label_code'] == 0)]"
   ]
  },
  {
   "cell_type": "code",
   "execution_count": 8,
   "metadata": {
    "ExecuteTime": {
     "end_time": "2021-01-08T05:30:23.391919Z",
     "start_time": "2021-01-08T05:30:22.208188Z"
    }
   },
   "outputs": [
    {
     "data": {
      "text/plain": [
       "<AxesSubplot:>"
      ]
     },
     "execution_count": 8,
     "metadata": {},
     "output_type": "execute_result"
    },
    {
     "data": {
      "image/png": "[encoded data removed]",
      "text/plain": [
       "<Figure size 432x288 with 2 Axes>"
      ]
     },
     "metadata": {
      "needs_background": "light"
     },
     "output_type": "display_data"
    }
   ],
   "source": [
    "import seaborn as sns\n",
    "corr = df.corr()\n",
    "sns.heatmap(corr, \n",
    "            xticklabels=corr.columns.values,\n",
    "            yticklabels=corr.columns.values)"
   ]
  },
  {
   "cell_type": "code",
   "execution_count": 9,
   "metadata": {
    "ExecuteTime": {
     "end_time": "2021-01-08T05:30:23.698872Z",
     "start_time": "2021-01-08T05:30:23.394158Z"
    }
   },
   "outputs": [
    {
     "data": {
      "text/html": [
       "<style  type=\"text/css\" >\n",
       "#T_9b2f2f96_5172_11eb_a153_5988572c78c1row0_col0,#T_9b2f2f96_5172_11eb_a153_5988572c78c1row1_col1,#T_9b2f2f96_5172_11eb_a153_5988572c78c1row2_col2,#T_9b2f2f96_5172_11eb_a153_5988572c78c1row3_col3,#T_9b2f2f96_5172_11eb_a153_5988572c78c1row4_col4,#T_9b2f2f96_5172_11eb_a153_5988572c78c1row5_col5,#T_9b2f2f96_5172_11eb_a153_5988572c78c1row6_col6,#T_9b2f2f96_5172_11eb_a153_5988572c78c1row7_col7,#T_9b2f2f96_5172_11eb_a153_5988572c78c1row8_col8,#T_9b2f2f96_5172_11eb_a153_5988572c78c1row9_col9,#T_9b2f2f96_5172_11eb_a153_5988572c78c1row10_col10,#T_9b2f2f96_5172_11eb_a153_5988572c78c1row11_col11,#T_9b2f2f96_5172_11eb_a153_5988572c78c1row12_col12,#T_9b2f2f96_5172_11eb_a153_5988572c78c1row13_col13,#T_9b2f2f96_5172_11eb_a153_5988572c78c1row14_col14,#T_9b2f2f96_5172_11eb_a153_5988572c78c1row15_col15,#T_9b2f2f96_5172_11eb_a153_5988572c78c1row16_col16{\n",
       "            background-color:  #b40426;\n",
       "            color:  #f1f1f1;\n",
       "        }#T_9b2f2f96_5172_11eb_a153_5988572c78c1row0_col1{\n",
       "            background-color:  #d0473d;\n",
       "            color:  #f1f1f1;\n",
       "        }#T_9b2f2f96_5172_11eb_a153_5988572c78c1row0_col2{\n",
       "            background-color:  #ccd9ed;\n",
       "            color:  #000000;\n",
       "        }#T_9b2f2f96_5172_11eb_a153_5988572c78c1row0_col3,#T_9b2f2f96_5172_11eb_a153_5988572c78c1row3_col0,#T_9b2f2f96_5172_11eb_a153_5988572c78c1row3_col10,#T_9b2f2f96_5172_11eb_a153_5988572c78c1row6_col14,#T_9b2f2f96_5172_11eb_a153_5988572c78c1row7_col8,#T_9b2f2f96_5172_11eb_a153_5988572c78c1row9_col11,#T_9b2f2f96_5172_11eb_a153_5988572c78c1row11_col7,#T_9b2f2f96_5172_11eb_a153_5988572c78c1row13_col4,#T_9b2f2f96_5172_11eb_a153_5988572c78c1row14_col3,#T_9b2f2f96_5172_11eb_a153_5988572c78c1row14_col12,#T_9b2f2f96_5172_11eb_a153_5988572c78c1row15_col4,#T_9b2f2f96_5172_11eb_a153_5988572c78c1row15_col5{\n",
       "            background-color:  #4e68d8;\n",
       "            color:  #000000;\n",
       "        }#T_9b2f2f96_5172_11eb_a153_5988572c78c1row0_col4,#T_9b2f2f96_5172_11eb_a153_5988572c78c1row9_col6{\n",
       "            background-color:  #7396f5;\n",
       "            color:  #000000;\n",
       "        }#T_9b2f2f96_5172_11eb_a153_5988572c78c1row0_col5{\n",
       "            background-color:  #a6c4fe;\n",
       "            color:  #000000;\n",
       "        }#T_9b2f2f96_5172_11eb_a153_5988572c78c1row0_col6,#T_9b2f2f96_5172_11eb_a153_5988572c78c1row7_col5,#T_9b2f2f96_5172_11eb_a153_5988572c78c1row9_col7,#T_9b2f2f96_5172_11eb_a153_5988572c78c1row9_col10,#T_9b2f2f96_5172_11eb_a153_5988572c78c1row10_col5,#T_9b2f2f96_5172_11eb_a153_5988572c78c1row11_col4,#T_9b2f2f96_5172_11eb_a153_5988572c78c1row11_col5,#T_9b2f2f96_5172_11eb_a153_5988572c78c1row12_col6{\n",
       "            background-color:  #5875e1;\n",
       "            color:  #000000;\n",
       "        }#T_9b2f2f96_5172_11eb_a153_5988572c78c1row0_col7,#T_9b2f2f96_5172_11eb_a153_5988572c78c1row1_col11,#T_9b2f2f96_5172_11eb_a153_5988572c78c1row4_col14,#T_9b2f2f96_5172_11eb_a153_5988572c78c1row5_col4,#T_9b2f2f96_5172_11eb_a153_5988572c78c1row10_col2,#T_9b2f2f96_5172_11eb_a153_5988572c78c1row10_col6,#T_9b2f2f96_5172_11eb_a153_5988572c78c1row13_col9{\n",
       "            background-color:  #5e7de7;\n",
       "            color:  #000000;\n",
       "        }#T_9b2f2f96_5172_11eb_a153_5988572c78c1row0_col8,#T_9b2f2f96_5172_11eb_a153_5988572c78c1row3_col5,#T_9b2f2f96_5172_11eb_a153_5988572c78c1row4_col5,#T_9b2f2f96_5172_11eb_a153_5988572c78c1row7_col15,#T_9b2f2f96_5172_11eb_a153_5988572c78c1row13_col0,#T_9b2f2f96_5172_11eb_a153_5988572c78c1row16_col14{\n",
       "            background-color:  #6180e9;\n",
       "            color:  #000000;\n",
       "        }#T_9b2f2f96_5172_11eb_a153_5988572c78c1row0_col9,#T_9b2f2f96_5172_11eb_a153_5988572c78c1row9_col14,#T_9b2f2f96_5172_11eb_a153_5988572c78c1row16_col4{\n",
       "            background-color:  #84a7fc;\n",
       "            color:  #000000;\n",
       "        }#T_9b2f2f96_5172_11eb_a153_5988572c78c1row0_col10,#T_9b2f2f96_5172_11eb_a153_5988572c78c1row14_col9{\n",
       "            background-color:  #82a6fb;\n",
       "            color:  #000000;\n",
       "        }#T_9b2f2f96_5172_11eb_a153_5988572c78c1row0_col11,#T_9b2f2f96_5172_11eb_a153_5988572c78c1row2_col13,#T_9b2f2f96_5172_11eb_a153_5988572c78c1row14_col4{\n",
       "            background-color:  #688aef;\n",
       "            color:  #000000;\n",
       "        }#T_9b2f2f96_5172_11eb_a153_5988572c78c1row0_col12{\n",
       "            background-color:  #7b9ff9;\n",
       "            color:  #000000;\n",
       "        }#T_9b2f2f96_5172_11eb_a153_5988572c78c1row0_col13,#T_9b2f2f96_5172_11eb_a153_5988572c78c1row1_col10,#T_9b2f2f96_5172_11eb_a153_5988572c78c1row2_col7,#T_9b2f2f96_5172_11eb_a153_5988572c78c1row5_col9{\n",
       "            background-color:  #6c8ff1;\n",
       "            color:  #000000;\n",
       "        }#T_9b2f2f96_5172_11eb_a153_5988572c78c1row0_col14,#T_9b2f2f96_5172_11eb_a153_5988572c78c1row10_col11,#T_9b2f2f96_5172_11eb_a153_5988572c78c1row15_col2{\n",
       "            background-color:  #5a78e4;\n",
       "            color:  #000000;\n",
       "        }#T_9b2f2f96_5172_11eb_a153_5988572c78c1row0_col15,#T_9b2f2f96_5172_11eb_a153_5988572c78c1row2_col6,#T_9b2f2f96_5172_11eb_a153_5988572c78c1row4_col9,#T_9b2f2f96_5172_11eb_a153_5988572c78c1row5_col15,#T_9b2f2f96_5172_11eb_a153_5988572c78c1row5_col16,#T_9b2f2f96_5172_11eb_a153_5988572c78c1row6_col2,#T_9b2f2f96_5172_11eb_a153_5988572c78c1row6_col3,#T_9b2f2f96_5172_11eb_a153_5988572c78c1row6_col4,#T_9b2f2f96_5172_11eb_a153_5988572c78c1row6_col7,#T_9b2f2f96_5172_11eb_a153_5988572c78c1row6_col12,#T_9b2f2f96_5172_11eb_a153_5988572c78c1row6_col13,#T_9b2f2f96_5172_11eb_a153_5988572c78c1row7_col10,#T_9b2f2f96_5172_11eb_a153_5988572c78c1row7_col14,#T_9b2f2f96_5172_11eb_a153_5988572c78c1row8_col14,#T_9b2f2f96_5172_11eb_a153_5988572c78c1row13_col10,#T_9b2f2f96_5172_11eb_a153_5988572c78c1row13_col11,#T_9b2f2f96_5172_11eb_a153_5988572c78c1row13_col12,#T_9b2f2f96_5172_11eb_a153_5988572c78c1row14_col8,#T_9b2f2f96_5172_11eb_a153_5988572c78c1row16_col0,#T_9b2f2f96_5172_11eb_a153_5988572c78c1row16_col1,#T_9b2f2f96_5172_11eb_a153_5988572c78c1row16_col5{\n",
       "            background-color:  #3b4cc0;\n",
       "            color:  #f1f1f1;\n",
       "        }#T_9b2f2f96_5172_11eb_a153_5988572c78c1row0_col16,#T_9b2f2f96_5172_11eb_a153_5988572c78c1row1_col3,#T_9b2f2f96_5172_11eb_a153_5988572c78c1row3_col7,#T_9b2f2f96_5172_11eb_a153_5988572c78c1row4_col8,#T_9b2f2f96_5172_11eb_a153_5988572c78c1row7_col6,#T_9b2f2f96_5172_11eb_a153_5988572c78c1row12_col13{\n",
       "            background-color:  #4a63d3;\n",
       "            color:  #f1f1f1;\n",
       "        }#T_9b2f2f96_5172_11eb_a153_5988572c78c1row1_col0{\n",
       "            background-color:  #d1493f;\n",
       "            color:  #f1f1f1;\n",
       "        }#T_9b2f2f96_5172_11eb_a153_5988572c78c1row1_col2{\n",
       "            background-color:  #cedaeb;\n",
       "            color:  #000000;\n",
       "        }#T_9b2f2f96_5172_11eb_a153_5988572c78c1row1_col4,#T_9b2f2f96_5172_11eb_a153_5988572c78c1row4_col1{\n",
       "            background-color:  #6b8df0;\n",
       "            color:  #000000;\n",
       "        }#T_9b2f2f96_5172_11eb_a153_5988572c78c1row1_col5{\n",
       "            background-color:  #bad0f8;\n",
       "            color:  #000000;\n",
       "        }#T_9b2f2f96_5172_11eb_a153_5988572c78c1row1_col6,#T_9b2f2f96_5172_11eb_a153_5988572c78c1row7_col2{\n",
       "            background-color:  #7da0f9;\n",
       "            color:  #000000;\n",
       "        }#T_9b2f2f96_5172_11eb_a153_5988572c78c1row1_col7{\n",
       "            background-color:  #86a9fc;\n",
       "            color:  #000000;\n",
       "        }#T_9b2f2f96_5172_11eb_a153_5988572c78c1row1_col8,#T_9b2f2f96_5172_11eb_a153_5988572c78c1row3_col4,#T_9b2f2f96_5172_11eb_a153_5988572c78c1row3_col11,#T_9b2f2f96_5172_11eb_a153_5988572c78c1row6_col9,#T_9b2f2f96_5172_11eb_a153_5988572c78c1row7_col13,#T_9b2f2f96_5172_11eb_a153_5988572c78c1row8_col0,#T_9b2f2f96_5172_11eb_a153_5988572c78c1row11_col3,#T_9b2f2f96_5172_11eb_a153_5988572c78c1row11_col10,#T_9b2f2f96_5172_11eb_a153_5988572c78c1row14_col1,#T_9b2f2f96_5172_11eb_a153_5988572c78c1row14_col2{\n",
       "            background-color:  #5d7ce6;\n",
       "            color:  #000000;\n",
       "        }#T_9b2f2f96_5172_11eb_a153_5988572c78c1row1_col9,#T_9b2f2f96_5172_11eb_a153_5988572c78c1row4_col16{\n",
       "            background-color:  #85a8fc;\n",
       "            color:  #000000;\n",
       "        }#T_9b2f2f96_5172_11eb_a153_5988572c78c1row1_col12,#T_9b2f2f96_5172_11eb_a153_5988572c78c1row11_col1,#T_9b2f2f96_5172_11eb_a153_5988572c78c1row14_col16,#T_9b2f2f96_5172_11eb_a153_5988572c78c1row15_col7{\n",
       "            background-color:  #6e90f2;\n",
       "            color:  #000000;\n",
       "        }#T_9b2f2f96_5172_11eb_a153_5988572c78c1row1_col13,#T_9b2f2f96_5172_11eb_a153_5988572c78c1row16_col2{\n",
       "            background-color:  #6f92f3;\n",
       "            color:  #000000;\n",
       "        }#T_9b2f2f96_5172_11eb_a153_5988572c78c1row1_col14,#T_9b2f2f96_5172_11eb_a153_5988572c78c1row2_col8,#T_9b2f2f96_5172_11eb_a153_5988572c78c1row7_col0,#T_9b2f2f96_5172_11eb_a153_5988572c78c1row10_col8,#T_9b2f2f96_5172_11eb_a153_5988572c78c1row11_col9,#T_9b2f2f96_5172_11eb_a153_5988572c78c1row14_col10{\n",
       "            background-color:  #536edd;\n",
       "            color:  #000000;\n",
       "        }#T_9b2f2f96_5172_11eb_a153_5988572c78c1row1_col15,#T_9b2f2f96_5172_11eb_a153_5988572c78c1row2_col9,#T_9b2f2f96_5172_11eb_a153_5988572c78c1row3_col8,#T_9b2f2f96_5172_11eb_a153_5988572c78c1row3_col15,#T_9b2f2f96_5172_11eb_a153_5988572c78c1row5_col12,#T_9b2f2f96_5172_11eb_a153_5988572c78c1row6_col8,#T_9b2f2f96_5172_11eb_a153_5988572c78c1row6_col11,#T_9b2f2f96_5172_11eb_a153_5988572c78c1row7_col3,#T_9b2f2f96_5172_11eb_a153_5988572c78c1row7_col4,#T_9b2f2f96_5172_11eb_a153_5988572c78c1row9_col3,#T_9b2f2f96_5172_11eb_a153_5988572c78c1row16_col8{\n",
       "            background-color:  #3f53c6;\n",
       "            color:  #f1f1f1;\n",
       "        }#T_9b2f2f96_5172_11eb_a153_5988572c78c1row1_col16,#T_9b2f2f96_5172_11eb_a153_5988572c78c1row2_col15,#T_9b2f2f96_5172_11eb_a153_5988572c78c1row15_col0{\n",
       "            background-color:  #3d50c3;\n",
       "            color:  #f1f1f1;\n",
       "        }#T_9b2f2f96_5172_11eb_a153_5988572c78c1row2_col0{\n",
       "            background-color:  #bbd1f8;\n",
       "            color:  #000000;\n",
       "        }#T_9b2f2f96_5172_11eb_a153_5988572c78c1row2_col1{\n",
       "            background-color:  #c7d7f0;\n",
       "            color:  #000000;\n",
       "        }#T_9b2f2f96_5172_11eb_a153_5988572c78c1row2_col3,#T_9b2f2f96_5172_11eb_a153_5988572c78c1row8_col15,#T_9b2f2f96_5172_11eb_a153_5988572c78c1row15_col11{\n",
       "            background-color:  #4055c8;\n"
      ],
      "text/plain": [
       "<pandas.io.formats.style.Styler at 0x7f86283150a0>"
      ]
     },
     "execution_count": 9,
     "metadata": {},
     "output_type": "execute_result"
    },
    {
     "data": {
      "text/html": [
       "<b>limit_output extension: Maximum message size of 10000 exceeded with 58310 characters</b>"
      ]
     },
     "metadata": {},
     "output_type": "display_data"
    }
   ],
   "source": [
    "corr = df.corr()\n",
    "corr.style.background_gradient(cmap='coolwarm').set_precision(2)\n",
    "# 'RdBu_r' & 'BrBG' are other good diverging colormaps"
   ]
  },
  {
   "cell_type": "code",
   "execution_count": 10,
   "metadata": {
    "ExecuteTime": {
     "end_time": "2021-01-08T05:30:23.714388Z",
     "start_time": "2021-01-08T05:30:23.703794Z"
    }
   },
   "outputs": [
    {
     "data": {
      "text/plain": [
       "pandas.core.frame.DataFrame"
      ]
     },
     "execution_count": 10,
     "metadata": {},
     "output_type": "execute_result"
    }
   ],
   "source": [
    "type(corr)"
   ]
  },
  {
   "cell_type": "code",
   "execution_count": 11,
   "metadata": {
    "ExecuteTime": {
     "end_time": "2021-01-08T05:30:23.726620Z",
     "start_time": "2021-01-08T05:30:23.716797Z"
    }
   },
   "outputs": [],
   "source": [
    "c1 = corr.abs().unstack().drop_duplicates()\n",
    "l = c1.sort_values(ascending = False)"
   ]
  },
  {
   "cell_type": "code",
   "execution_count": 12,
   "metadata": {
    "ExecuteTime": {
     "end_time": "2021-01-08T05:30:23.742701Z",
     "start_time": "2021-01-08T05:30:23.728776Z"
    }
   },
   "outputs": [
    {
     "data": {
      "text/plain": [
       "word_count       word_count              1.000000\n",
       "                 character_count         0.912242\n",
       "character_count  uppercase_count         0.377396\n",
       "word_count       uppercase_count         0.366634\n",
       "character_count  mention_count           0.325662\n",
       "                                           ...   \n",
       "url_count        second_pronoun_count    0.001921\n",
       "hashtag_count    first_pronoun_count     0.001615\n",
       "mention_count    third_pronoun_count     0.000508\n",
       "uppercase_count  has_profanity           0.000354\n",
       "polarity         has_colon               0.000007\n",
       "Length: 137, dtype: float64"
      ]
     },
     "execution_count": 12,
     "metadata": {},
     "output_type": "execute_result"
    }
   ],
   "source": [
    "l"
   ]
  },
  {
   "cell_type": "code",
   "execution_count": 13,
   "metadata": {
    "ExecuteTime": {
     "end_time": "2021-01-08T05:30:23.752966Z",
     "start_time": "2021-01-08T05:30:23.744797Z"
    }
   },
   "outputs": [],
   "source": [
    "def sort_correlation_matrix(correlation_matrix):\n",
    "    cor = correlation_matrix.abs()\n",
    "    top_col = cor[cor.columns[0]][1:]\n",
    "    top_col = top_col.sort_values(ascending=False)\n",
    "    ordered_columns = [cor.columns[0]] + top_col.index.tolist()\n",
    "    return correlation_matrix[ordered_columns].reindex(ordered_columns)"
   ]
  },
  {
   "cell_type": "code",
   "execution_count": 14,
   "metadata": {
    "ExecuteTime": {
     "end_time": "2021-01-08T05:30:23.792202Z",
     "start_time": "2021-01-08T05:30:23.755054Z"
    }
   },
   "outputs": [
    {
     "data": {
      "text/html": [
       "<div>\n",
       "<style scoped>\n",
       "    .dataframe tbody tr th:only-of-type {\n",
       "        vertical-align: middle;\n",
       "    }\n",
       "\n",
       "    .dataframe tbody tr th {\n",
       "        vertical-align: top;\n",
       "    }\n",
       "\n",
       "    .dataframe thead th {\n",
       "        text-align: right;\n",
       "    }\n",
       "</style>\n",
       "<table border=\"1\" class=\"dataframe\">\n",
       "  <thead>\n",
       "    <tr style=\"text-align: right;\">\n",
       "      <th></th>\n",
       "      <th>word_count</th>\n",
       "      <th>character_count</th>\n",
       "      <th>uppercase_count</th>\n",
       "      <th>mention_count</th>\n",
       "      <th>first_pronoun_count</th>\n",
       "      <th>subjectivity</th>\n",
       "      <th>third_pronoun_count</th>\n",
       "      <th>second_pronoun_count</th>\n",
       "      <th>exclaimation_count</th>\n",
       "      <th>via_count</th>\n",
       "      <th>polarity</th>\n",
       "      <th>has_profanity</th>\n",
       "      <th>url_count</th>\n",
       "      <th>question_count</th>\n",
       "      <th>label_code</th>\n",
       "      <th>has_colon</th>\n",
       "      <th>hashtag_count</th>\n",
       "    </tr>\n",
       "  </thead>\n",
       "  <tbody>\n",
       "    <tr>\n",
       "      <th>word_count</th>\n",
       "      <td>1.000000</td>\n",
       "      <td>0.912242</td>\n",
       "      <td>0.366634</td>\n",
       "      <td>0.260936</td>\n",
       "      <td>0.192145</td>\n",
       "      <td>0.191638</td>\n",
       "      <td>0.184958</td>\n",
       "      <td>0.124173</td>\n",
       "      <td>0.108327</td>\n",
       "      <td>0.095639</td>\n",
       "      <td>0.085700</td>\n",
       "      <td>0.063786</td>\n",
       "      <td>0.052719</td>\n",
       "      <td>0.034658</td>\n",
       "      <td>-0.031050</td>\n",
       "      <td>-0.021015</td>\n",
       "      <td>-0.017964</td>\n",
       "    </tr>\n",
       "    <tr>\n",
       "      <th>character_count</th>\n",
       "      <td>0.912242</td>\n",
       "      <td>1.000000</td>\n",
       "      <td>0.377396</td>\n",
       "      <td>0.325662</td>\n",
       "      <td>0.127013</td>\n",
       "      <td>0.194919</td>\n",
       "      <td>0.146984</td>\n",
       "      <td>0.092440</td>\n",
       "      <td>0.085768</td>\n",
       "      <td>0.102010</td>\n",
       "      <td>0.071777</td>\n",
       "      <td>0.039788</td>\n",
       "      <td>0.180023</td>\n",
       "      <td>0.025324</td>\n",
       "      <td>-0.081363</td>\n",
       "      <td>-0.003247</td>\n",
       "      <td>0.103187</td>\n",
       "    </tr>\n",
       "    <tr>\n",
       "      <th>uppercase_count</th>\n",
       "      <td>0.366634</td>\n",
       "      <td>0.377396</td>\n",
       "      <td>1.000000</td>\n",
       "      <td>0.243035</td>\n",
       "      <td>0.002079</td>\n",
       "      <td>-0.024783</td>\n",
       "      <td>-0.005579</td>\n",
       "      <td>-0.013747</td>\n",
       "      <td>0.313318</td>\n",
       "      <td>0.083772</td>\n",
       "      <td>0.042099</td>\n",
       "      <td>-0.000354</td>\n",
       "      <td>0.101391</td>\n",
       "      <td>-0.008390</td>\n",
       "      <td>0.059209</td>\n",
       "      <td>-0.010768</td>\n",
       "      <td>-0.127753</td>\n",
       "    </tr>\n",
       "    <tr>\n",
       "      <th>mention_count</th>\n",
       "      <td>0.260936</td>\n",
       "      <td>0.325662</td>\n",
       "      <td>0.243035</td>\n",
       "      <td>1.000000</td>\n",
       "      <td>0.014271</td>\n",
       "      <td>0.121555</td>\n",
       "      <td>0.000508</td>\n",
       "      <td>0.012510</td>\n",
       "      <td>0.043951</td>\n",
       "      <td>0.300464</td>\n",
       "      <td>0.106442</td>\n",
       "      <td>0.018115</td>\n",
       "      <td>0.012858</td>\n",
       "      <td>0.042077</td>\n",
       "      <td>-0.090166</td>\n",
       "      <td>-0.019398</td>\n",
       "      <td>-0.064048</td>\n",
       "    </tr>\n",
       "    <tr>\n",
       "      <th>first_pronoun_count</th>\n",
       "      <td>0.192145</td>\n",
       "      <td>0.127013</td>\n",
       "      <td>0.002079</td>\n",
       "      <td>0.014271</td>\n",
       "      <td>1.000000</td>\n",
       "      <td>0.063987</td>\n",
       "      <td>0.102661</td>\n",
       "      <td>0.079829</td>\n",
       "      <td>0.044891</td>\n",
       "      <td>-0.034905</td>\n",
       "      <td>0.042324</td>\n",
       "      <td>0.046024</td>\n",
       "      <td>-0.032888</td>\n",
       "      <td>0.031915</td>\n",
       "      <td>0.038118</td>\n",
       "      <td>0.006059</td>\n",
       "      <td>0.001615</td>\n",
       "    </tr>\n",
       "    <tr>\n",
       "      <th>subjectivity</th>\n",
       "      <td>0.191638</td>\n",
       "      <td>0.194919</td>\n",
       "      <td>-0.024783</td>\n",
       "      <td>0.121555</td>\n",
       "      <td>0.063987</td>\n",
       "      <td>1.000000</td>\n",
       "      <td>0.029991</td>\n",
       "      <td>0.040218</td>\n",
       "      <td>-0.041342</td>\n",
       "      <td>0.078217</td>\n",
       "      <td>0.157215</td>\n",
       "      <td>0.189771</td>\n",
       "      <td>0.031502</td>\n",
       "      <td>-0.013683</td>\n",
       "      <td>-0.035702</td>\n",
       "      <td>0.007862</td>\n",
       "      <td>0.074282</td>\n",
       "    </tr>\n",
       "    <tr>\n",
       "      <th>third_pronoun_count</th>\n",
       "      <td>0.184958</td>\n",
       "      <td>0.146984</td>\n",
       "      <td>-0.005579</td>\n",
       "      <td>0.000508</td>\n",
       "      <td>0.102661</td>\n",
       "      <td>0.029991</td>\n",
       "      <td>1.000000</td>\n",
       "      <td>0.053045</td>\n",
       "      <td>0.011917</td>\n",
       "      <td>-0.018855</td>\n",
       "      <td>0.016759</td>\n",
       "      <td>0.046816</td>\n",
       "      <td>0.019594</td>\n",
       "      <td>0.043278</td>\n",
       "      <td>0.058980</td>\n",
       "      <td>0.006140</td>\n",
       "      <td>-0.017750</td>\n",
       "    </tr>\n",
       "    <tr>\n",
       "      <th>second_pronoun_count</th>\n",
       "      <td>0.124173</td>\n",
       "      <td>0.092440</td>\n",
       "      <td>-0.013747</td>\n",
       "      <td>0.012510</td>\n",
       "      <td>0.079829</td>\n",
       "      <td>0.040218</td>\n",
       "      <td>0.053045</td>\n",
       "      <td>1.000000</td>\n",
       "      <td>0.021486</td>\n",
       "      <td>-0.027086</td>\n",
       "      <td>0.022310</td>\n",
       "      <td>0.036907</td>\n",
       "      <td>-0.001921</td>\n",
       "      <td>0.085986</td>\n",
       "      <td>0.009865</td>\n",
       "      <td>-0.006187</td>\n",
       "      <td>-0.008423</td>\n",
       "    </tr>\n",
       "    <tr>\n",
       "      <th>exclaimation_count</th>\n",
       "      <td>0.108327</td>\n",
       "      <td>0.085768</td>\n",
       "      <td>0.313318</td>\n",
       "      <td>0.043951</td>\n",
       "      <td>0.044891</td>\n",
       "      <td>-0.041342</td>\n",
       "      <td>0.011917</td>\n",
       "      <td>0.021486</td>\n",
       "      <td>1.000000</td>\n",
       "      <td>-0.011615</td>\n",
       "      <td>0.010438</td>\n",
       "      <td>0.077036</td>\n",
       "      <td>-0.062018</td>\n",
       "      <td>0.039871</td>\n",
       "      <td>0.159580</td>\n",
       "      <td>-0.013873</td>\n",
       "      <td>-0.082681</td>\n",
       "    </tr>\n",
       "    <tr>\n",
       "      <th>via_count</th>\n",
       "      <td>0.095639</td>\n",
       "      <td>0.102010</td>\n",
       "      <td>0.083772</td>\n",
       "      <td>0.300464</td>\n",
       "      <td>-0.034905</td>\n",
       "      <td>0.078217</td>\n",
       "      <td>-0.018855</td>\n",
       "      <td>-0.027086</td>\n",
       "      <td>-0.011615</td>\n",
       "      <td>1.000000</td>\n",
       "      <td>0.060544</td>\n",
       "      <td>-0.014165</td>\n",
       "      <td>0.045159</td>\n",
       "      <td>-0.015434</td>\n",
       "      <td>-0.060001</td>\n",
       "      <td>0.005401</td>\n",
       "      <td>-0.074939</td>\n",
       "    </tr>\n",
       "    <tr>\n",
       "      <th>polarity</th>\n",
       "      <td>0.085700</td>\n",
       "      <td>0.071777</td>\n",
       "      <td>0.042099</td>\n",
       "      <td>0.106442</td>\n",
       "      <td>0.042324</td>\n",
       "      <td>0.157215</td>\n",
       "      <td>0.016759</td>\n",
       "      <td>0.022310</td>\n",
       "      <td>0.010438</td>\n",
       "      <td>0.060544</td>\n",
       "      <td>1.000000</td>\n",
       "      <td>-0.042801</td>\n",
       "      <td>0.024609</td>\n",
       "      <td>-0.022583</td>\n",
       "      <td>-0.022699</td>\n",
       "      <td>-0.000007</td>\n",
       "      <td>-0.024798</td>\n",
       "    </tr>\n",
       "    <tr>\n",
       "      <th>has_profanity</th>\n",
       "      <td>0.063786</td>\n",
       "      <td>0.039788</td>\n",
       "      <td>-0.000354</td>\n",
       "      <td>0.018115</td>\n",
       "      <td>0.046024</td>\n",
       "      <td>0.189771</td>\n",
       "      <td>0.046816</td>\n",
       "      <td>0.036907</td>\n",
       "      <td>0.077036</td>\n",
       "      <td>-0.014165</td>\n",
       "      <td>-0.042801</td>\n",
       "      <td>1.000000</td>\n",
       "      <td>-0.039840</td>\n",
       "      <td>0.037841</td>\n",
       "      <td>0.085603</td>\n",
       "      <td>0.007428</td>\n",
       "      <td>0.026136</td>\n",
       "    </tr>\n",
       "    <tr>\n",
       "      <th>url_count</th>\n",
       "      <td>0.052719</td>\n",
       "      <td>0.180023</td>\n",
       "      <td>0.101391</td>\n",
       "      <td>0.012858</td>\n",
       "      <td>-0.032888</td>\n",
       "      <td>0.031502</td>\n",
       "      <td>0.019594</td>\n",
       "      <td>-0.001921</td>\n",
       "      <td>-0.062018</td>\n",
       "      <td>0.045159</td>\n",
       "      <td>0.024609</td>\n",
       "      <td>-0.039840</td>\n",
       "      <td>1.000000</td>\n",
       "      <td>-0.013241</td>\n",
       "      <td>-0.061774</td>\n",
       "      <td>0.104875</td>\n",
       "      <td>-0.069129</td>\n",
       "    </tr>\n",
       "    <tr>\n",
       "      <th>question_count</th>\n",
       "      <td>0.034658</td>\n",
       "      <td>0.025324</td>\n",
       "      <td>-0.008390</td>\n",
       "      <td>0.042077</td>\n",
       "      <td>0.031915</td>\n",
       "      <td>-0.013683</td>\n",
       "      <td>0.043278</td>\n",
       "      <td>0.085986</td>\n",
       "      <td>0.039871</td>\n",
       "      <td>-0.015434</td>\n",
       "      <td>-0.022583</td>\n",
       "      <td>0.037841</td>\n",
       "      <td>-0.013241</td>\n",
       "      <td>1.000000</td>\n",
       "      <td>0.063545</td>\n",
       "      <td>-0.001958</td>\n",
       "      <td>-0.030532</td>\n",
       "    </tr>\n",
       "    <tr>\n",
       "      <th>label_code</th>\n",
       "      <td>-0.031050</td>\n",
       "      <td>-0.081363</td>\n",
       "      <td>0.059209</td>\n",
       "      <td>-0.090166</td>\n",
       "      <td>0.038118</td>\n",
       "      <td>-0.035702</td>\n",
       "      <td>0.058980</td>\n",
       "      <td>0.009865</td>\n",
       "      <td>0.159580</td>\n",
       "      <td>-0.060001</td>\n",
       "      <td>-0.022699</td>\n",
       "      <td>0.085603</td>\n",
       "      <td>-0.061774</td>\n",
       "      <td>0.063545</td>\n",
       "      <td>1.000000</td>\n",
       "      <td>-0.016834</td>\n",
       "      <td>-0.075521</td>\n",
       "    </tr>\n",
       "    <tr>\n",
       "      <th>has_colon</th>\n",
       "      <td>-0.021015</td>\n",
       "      <td>-0.003247</td>\n",
       "      <td>-0.010768</td>\n",
       "      <td>-0.019398</td>\n",
       "      <td>0.006059</td>\n",
       "      <td>0.007862</td>\n",
       "      <td>0.006140</td>\n",
       "      <td>-0.006187</td>\n",
       "      <td>-0.013873</td>\n",
       "      <td>0.005401</td>\n",
       "      <td>-0.000007</td>\n",
       "      <td>0.007428</td>\n",
       "      <td>0.104875</td>\n",
       "      <td>-0.001958</td>\n",
       "      <td>-0.016834</td>\n",
       "      <td>1.000000</td>\n",
       "      <td>0.017456</td>\n",
       "    </tr>\n",
       "    <tr>\n",
       "      <th>hashtag_count</th>\n",
       "      <td>-0.017964</td>\n",
       "      <td>0.103187</td>\n",
       "      <td>-0.127753</td>\n",
       "      <td>-0.064048</td>\n",
       "      <td>0.001615</td>\n",
       "      <td>0.074282</td>\n",
       "      <td>-0.017750</td>\n",
       "      <td>-0.008423</td>\n",
       "      <td>-0.082681</td>\n",
       "      <td>-0.074939</td>\n",
       "      <td>-0.024798</td>\n",
       "      <td>0.026136</td>\n",
       "      <td>-0.069129</td>\n",
       "      <td>-0.030532</td>\n",
       "      <td>-0.075521</td>\n",
       "      <td>0.017456</td>\n",
       "      <td>1.000000</td>\n",
       "    </tr>\n",
       "  </tbody>\n",
       "</table>\n",
       "</div>"
      ],
      "text/plain": [
       "                      word_count  character_count  uppercase_count  \\\n",
       "word_count              1.000000         0.912242         0.366634   \n",
       "character_count         0.912242         1.000000         0.377396   \n",
       "uppercase_count         0.366634         0.377396         1.000000   \n",
       "mention_count           0.260936         0.325662         0.243035   \n",
       "first_pronoun_count     0.192145         0.127013         0.002079   \n",
       "subjectivity            0.191638         0.194919        -0.024783   \n",
       "third_pronoun_count     0.184958         0.146984        -0.005579   \n",
       "second_pronoun_count    0.124173         0.092440        -0.013747   \n",
       "exclaimation_count      0.108327         0.085768         0.313318   \n",
       "via_count               0.095639         0.102010         0.083772   \n",
       "polarity                0.085700         0.071777         0.042099   \n",
       "has_profanity           0.063786         0.039788        -0.000354   \n",
       "url_count               0.052719         0.180023         0.101391   \n",
       "question_count          0.034658         0.025324        -0.008390   \n",
       "label_code             -0.031050        -0.081363         0.059209   \n",
       "has_colon              -0.021015        -0.003247        -0.010768   \n",
       "hashtag_count          -0.017964         0.103187        -0.127753   \n",
       "\n",
       "                      mention_count  first_pronoun_count  subjectivity  \\\n",
       "word_count                 0.260936             0.192145      0.191638   \n",
       "character_count            0.325662             0.127013      0.194919   \n",
       "uppercase_count            0.243035             0.002079     -0.024783   \n",
       "mention_count              1.000000             0.014271      0.121555   \n",
       "first_pronoun_count        0.014271             1.000000      0.063987   \n",
       "subjectivity               0.121555             0.063987      1.000000   \n",
       "third_pronoun_count        0.000508             0.102661      0.029991   \n",
       "second_pronoun_count       0.012510             0.079829      0.040218   \n",
       "exclaimation_count         0.043951             0.044891     -0.041342   \n",
       "via_count                  0.300464            -0.034905      0.078217   \n",
       "polarity                   0.106442             0.042324      0.157215   \n",
       "has_profanity              0.018115             0.046024      0.189771   \n",
       "url_count                  0.012858            -0.032888      0.031502   \n",
       "question_count             0.042077             0.031915     -0.013683   \n",
       "label_code                -0.090166             0.038118     -0.035702   \n",
       "has_colon                 -0.019398             0.006059      0.007862   \n",
       "hashtag_count             -0.064048             0.001615      0.074282   \n",
       "\n",
       "                      third_pronoun_count  second_pronoun_count  \\\n",
       "word_count                       0.184958              0.124173   \n",
       "character_count                  0.146984              0.092440   \n",
       "uppercase_count                 -0.005579             -0.013747   \n",
       "mention_count                    0.000508              0.012510   \n",
       "first_pronoun_count              0.102661              0.079829   \n",
       "subjectivity                     0.029991              0.040218   \n",
       "third_pronoun_count              1.000000              0.053045   \n",
       "second_pronoun_count             0.053045              1.000000   \n",
       "exclaimation_count               0.011917              0.021486   \n",
       "via_count                       -0.018855             -0.027086   \n",
       "polarity                         0.016759              0.022310   \n",
       "has_profanity                    0.046816              0.036907   \n",
       "url_count                        0.019594             -0.001921   \n",
       "question_count                   0.043278              0.085986   \n",
       "label_code                       0.058980              0.009865   \n",
       "has_colon                        0.006140             -0.006187   \n",
       "hashtag_count                   -0.017750             -0.008423   \n",
       "\n",
       "                      exclaimation_count  via_count  polarity  has_profanity  \\\n",
       "word_count                      0.108327   0.095639  0.085700       0.063786   \n",
       "character_count                 0.085768   0.102010  0.071777       0.039788   \n",
       "uppercase_count                 0.313318   0.083772  0.042099      -0.000354   \n",
       "mention_count                   0.043951   0.300464  0.106442       0.018115   \n",
       "first_pronoun_count             0.044891  -0.034905  0.042324       0.046024   \n",
       "subjectivity                   -0.041342   0.078217  0.157215       0.189771   \n",
       "third_pronoun_count             0.011917  -0.018855  0.016759       0.046816   \n",
       "second_pronoun_count            0.021486  -0.027086  0.022310       0.036907   \n",
       "exclaimation_count              1.000000  -0.011615  0.010438       0.077036   \n",
       "via_count                      -0.011615   1.000000  0.060544      -0.014165   \n",
       "polarity                        0.010438   0.060544  1.000000      -0.042801   \n",
       "has_profanity                   0.077036  -0.014165 -0.042801       1.000000   \n",
       "url_count                      -0.062018   0.045159  0.024609      -0.039840   \n",
       "question_count                  0.039871  -0.015434 -0.022583       0.037841   \n",
       "label_code                      0.159580  -0.060001 -0.022699       0.085603   \n",
       "has_colon                      -0.013873   0.005401 -0.000007       0.007428   \n",
       "hashtag_count                  -0.082681  -0.074939 -0.024798       0.026136   \n",
       "\n",
       "                      url_count  question_count  label_code  has_colon  \\\n",
       "word_count             0.052719        0.034658   -0.031050  -0.021015   \n",
       "character_count        0.180023        0.025324   -0.081363  -0.003247   \n",
       "uppercase_count        0.101391       -0.008390    0.059209  -0.010768   \n",
       "mention_count          0.012858        0.042077   -0.090166  -0.019398   \n",
       "first_pronoun_count   -0.032888        0.031915    0.038118   0.006059   \n",
       "subjectivity           0.031502       -0.013683   -0.035702   0.007862   \n",
       "third_pronoun_count    0.019594        0.043278    0.058980   0.006140   \n",
       "second_pronoun_count  -0.001921        0.085986    0.009865  -0.006187   \n",
       "exclaimation_count    -0.062018        0.039871    0.159580  -0.013873   \n",
       "via_count              0.045159       -0.015434   -0.060001   0.005401   \n",
       "polarity               0.024609       -0.022583   -0.022699  -0.000007   \n",
       "has_profanity         -0.039840        0.037841    0.085603   0.007428   \n",
       "url_count              1.000000       -0.013241   -0.061774   0.104875   \n",
       "question_count        -0.013241        1.000000    0.063545  -0.001958   \n",
       "label_code            -0.061774        0.063545    1.000000  -0.016834   \n",
       "has_colon              0.104875       -0.001958   -0.016834   1.000000   \n",
       "hashtag_count         -0.069129       -0.030532   -0.075521   0.017456   \n",
       "\n",
       "                      hashtag_count  \n",
       "word_count                -0.017964  \n",
       "character_count            0.103187  \n",
       "uppercase_count           -0.127753  \n",
       "mention_count             -0.064048  \n",
       "first_pronoun_count        0.001615  \n",
       "subjectivity               0.074282  \n",
       "third_pronoun_count       -0.017750  \n",
       "second_pronoun_count      -0.008423  \n",
       "exclaimation_count        -0.082681  \n",
       "via_count                 -0.074939  \n",
       "polarity                  -0.024798  \n",
       "has_profanity              0.026136  \n",
       "url_count                 -0.069129  \n",
       "question_count            -0.030532  \n",
       "label_code                -0.075521  \n",
       "has_colon                  0.017456  \n",
       "hashtag_count              1.000000  "
      ]
     },
     "execution_count": 14,
     "metadata": {},
     "output_type": "execute_result"
    }
   ],
   "source": [
    "sort_correlation_matrix(corr)"
   ]
  },
  {
   "cell_type": "code",
   "execution_count": 15,
   "metadata": {
    "ExecuteTime": {
     "end_time": "2021-01-08T05:30:23.806556Z",
     "start_time": "2021-01-08T05:30:23.794347Z"
    }
   },
   "outputs": [
    {
     "data": {
      "text/plain": [
       "mention_count          -0.090166\n",
       "character_count        -0.081363\n",
       "hashtag_count          -0.075521\n",
       "url_count              -0.061774\n",
       "via_count              -0.060001\n",
       "subjectivity           -0.035702\n",
       "word_count             -0.031050\n",
       "polarity               -0.022699\n",
       "has_colon              -0.016834\n",
       "second_pronoun_count    0.009865\n",
       "first_pronoun_count     0.038118\n",
       "third_pronoun_count     0.058980\n",
       "uppercase_count         0.059209\n",
       "question_count          0.063545\n",
       "has_profanity           0.085603\n",
       "exclaimation_count      0.159580\n",
       "label_code              1.000000\n",
       "Name: label_code, dtype: float64"
      ]
     },
     "execution_count": 15,
     "metadata": {},
     "output_type": "execute_result"
    }
   ],
   "source": [
    "corr['label_code'].sort_values()"
   ]
  },
  {
   "cell_type": "code",
   "execution_count": 16,
   "metadata": {
    "ExecuteTime": {
     "end_time": "2021-01-08T05:30:23.816585Z",
     "start_time": "2021-01-08T05:30:23.809217Z"
    }
   },
   "outputs": [],
   "source": [
    "df['pronoun_count'] = df['first_pronoun_count'] + df['second_pronoun_count'] + df['third_pronoun_count']"
   ]
  },
  {
   "cell_type": "code",
   "execution_count": 17,
   "metadata": {
    "ExecuteTime": {
     "end_time": "2021-01-08T05:30:23.841465Z",
     "start_time": "2021-01-08T05:30:23.819095Z"
    }
   },
   "outputs": [],
   "source": [
    "corr = df.corr()"
   ]
  },
  {
   "cell_type": "code",
   "execution_count": 18,
   "metadata": {
    "ExecuteTime": {
     "end_time": "2021-01-08T05:30:23.850747Z",
     "start_time": "2021-01-08T05:30:23.843612Z"
    }
   },
   "outputs": [
    {
     "data": {
      "text/plain": [
       "mention_count          -0.090166\n",
       "character_count        -0.081363\n",
       "hashtag_count          -0.075521\n",
       "url_count              -0.061774\n",
       "via_count              -0.060001\n",
       "subjectivity           -0.035702\n",
       "word_count             -0.031050\n",
       "polarity               -0.022699\n",
       "has_colon              -0.016834\n",
       "second_pronoun_count    0.009865\n",
       "first_pronoun_count     0.038118\n",
       "third_pronoun_count     0.058980\n",
       "uppercase_count         0.059209\n",
       "pronoun_count           0.061385\n",
       "question_count          0.063545\n",
       "has_profanity           0.085603\n",
       "exclaimation_count      0.159580\n",
       "label_code              1.000000\n",
       "Name: label_code, dtype: float64"
      ]
     },
     "execution_count": 18,
     "metadata": {},
     "output_type": "execute_result"
    }
   ],
   "source": [
    "corr['label_code'].sort_values()"
   ]
  },
  {
   "cell_type": "code",
   "execution_count": 19,
   "metadata": {
    "ExecuteTime": {
     "end_time": "2021-01-08T05:30:24.462896Z",
     "start_time": "2021-01-08T05:30:23.855838Z"
    }
   },
   "outputs": [
    {
     "data": {
      "text/plain": [
       "<AxesSubplot:>"
      ]
     },
     "execution_count": 19,
     "metadata": {},
     "output_type": "execute_result"
    },
    {
     "data": {
      "image/png": "[encoded data removed]",
      "text/plain": [
       "<Figure size 432x288 with 2 Axes>"
      ]
     },
     "metadata": {
      "needs_background": "light"
     },
     "output_type": "display_data"
    }
   ],
   "source": [
    "import seaborn as sns\n",
    "corr = df.corr()\n",
    "sns.heatmap(corr, \n",
    "            xticklabels=corr.columns.values,\n",
    "            yticklabels=corr.columns.values)"
   ]
  },
  {
   "cell_type": "code",
   "execution_count": 20,
   "metadata": {
    "ExecuteTime": {
     "end_time": "2021-01-08T05:30:24.470876Z",
     "start_time": "2021-01-08T05:30:24.465136Z"
    }
   },
   "outputs": [],
   "source": [
    "df['sub_polar'] = df['subjectivity'] + df['polarity']"
   ]
  },
  {
   "cell_type": "code",
   "execution_count": 21,
   "metadata": {
    "ExecuteTime": {
     "end_time": "2021-01-08T05:30:24.499807Z",
     "start_time": "2021-01-08T05:30:24.475095Z"
    }
   },
   "outputs": [],
   "source": [
    "corr = df.corr()"
   ]
  },
  {
   "cell_type": "code",
   "execution_count": 22,
   "metadata": {
    "ExecuteTime": {
     "end_time": "2021-01-08T05:30:24.513145Z",
     "start_time": "2021-01-08T05:30:24.502115Z"
    }
   },
   "outputs": [
    {
     "data": {
      "text/plain": [
       "mention_count          -0.090166\n",
       "character_count        -0.081363\n",
       "hashtag_count          -0.075521\n",
       "url_count              -0.061774\n",
       "via_count              -0.060001\n",
       "sub_polar              -0.039185\n",
       "subjectivity           -0.035702\n",
       "word_count             -0.031050\n",
       "polarity               -0.022699\n",
       "has_colon              -0.016834\n",
       "second_pronoun_count    0.009865\n",
       "first_pronoun_count     0.038118\n",
       "third_pronoun_count     0.058980\n",
       "uppercase_count         0.059209\n",
       "pronoun_count           0.061385\n",
       "question_count          0.063545\n",
       "has_profanity           0.085603\n",
       "exclaimation_count      0.159580\n",
       "label_code              1.000000\n",
       "Name: label_code, dtype: float64"
      ]
     },
     "execution_count": 22,
     "metadata": {},
     "output_type": "execute_result"
    }
   ],
   "source": [
    "corr['label_code'].sort_values()"
   ]
  },
  {
   "cell_type": "code",
   "execution_count": 23,
   "metadata": {
    "ExecuteTime": {
     "end_time": "2021-01-08T05:30:35.761796Z",
     "start_time": "2021-01-08T05:30:35.152114Z"
    }
   },
   "outputs": [
    {
     "data": {
      "text/plain": [
       "<AxesSubplot:>"
      ]
     },
     "execution_count": 23,
     "metadata": {},
     "output_type": "execute_result"
    },
    {
     "data": {
      "image/png": "[encoded data removed]",
      "text/plain": [
       "<Figure size 432x288 with 2 Axes>"
      ]
     },
     "metadata": {
      "needs_background": "light"
     },
     "output_type": "display_data"
    }
   ],
   "source": [
    "corr = df.corr()\n",
    "sns.heatmap(corr, \n",
    "            xticklabels=corr.columns.values,\n",
    "            yticklabels=corr.columns.values)"
   ]
  },
  {
   "cell_type": "code",
   "execution_count": 24,
   "metadata": {
    "ExecuteTime": {
     "end_time": "2021-01-08T05:30:39.574557Z",
     "start_time": "2021-01-08T05:30:39.558890Z"
    }
   },
   "outputs": [
    {
     "data": {
      "text/html": [
       "<div>\n",
       "<style scoped>\n",
       "    .dataframe tbody tr th:only-of-type {\n",
       "        vertical-align: middle;\n",
       "    }\n",
       "\n",
       "    .dataframe tbody tr th {\n",
       "        vertical-align: top;\n",
       "    }\n",
       "\n",
       "    .dataframe thead th {\n",
       "        text-align: right;\n",
       "    }\n",
       "</style>\n",
       "<table border=\"1\" class=\"dataframe\">\n",
       "  <thead>\n",
       "    <tr style=\"text-align: right;\">\n",
       "      <th></th>\n",
       "      <th>exclaimation_count</th>\n",
       "    </tr>\n",
       "    <tr>\n",
       "      <th>label_code</th>\n",
       "      <th></th>\n",
       "    </tr>\n",
       "  </thead>\n",
       "  <tbody>\n",
       "    <tr>\n",
       "      <th>0</th>\n",
       "      <td>0.238998</td>\n",
       "    </tr>\n",
       "    <tr>\n",
       "      <th>1</th>\n",
       "      <td>0.594833</td>\n",
       "    </tr>\n",
       "  </tbody>\n",
       "</table>\n",
       "</div>"
      ],
      "text/plain": [
       "            exclaimation_count\n",
       "label_code                    \n",
       "0                     0.238998\n",
       "1                     0.594833"
      ]
     },
     "execution_count": 24,
     "metadata": {},
     "output_type": "execute_result"
    }
   ],
   "source": [
    "df2 = df[['label_code', 'exclaimation_count']]\n",
    "df2.groupby('label_code').mean()"
   ]
  },
  {
   "cell_type": "code",
   "execution_count": 25,
   "metadata": {
    "ExecuteTime": {
     "end_time": "2021-01-08T05:30:45.591264Z",
     "start_time": "2021-01-08T05:30:44.962742Z"
    }
   },
   "outputs": [
    {
     "data": {
      "text/plain": [
       "<seaborn.axisgrid.FacetGrid at 0x7f86154e9be0>"
      ]
     },
     "execution_count": 25,
     "metadata": {},
     "output_type": "execute_result"
    },
    {
     "data": {
      "image/png": "[encoded data removed]",
      "text/plain": [
       "<Figure size 360x360 with 1 Axes>"
      ]
     },
     "metadata": {
      "needs_background": "light"
     },
     "output_type": "display_data"
    }
   ],
   "source": [
    "df2 = df[['label_code', 'via_count']]\n",
    "import seaborn as sns\n",
    "sns.catplot(y='via_count', x='label_code', data=df2, kind='point', aspect=1, )"
   ]
  },
  {
   "cell_type": "code",
   "execution_count": 27,
   "metadata": {
    "ExecuteTime": {
     "end_time": "2021-01-08T05:31:24.366397Z",
     "start_time": "2021-01-08T05:31:23.752109Z"
    }
   },
   "outputs": [
    {
     "data": {
      "text/plain": [
       "<seaborn.axisgrid.FacetGrid at 0x7f86289c8f10>"
      ]
     },
     "execution_count": 27,
     "metadata": {},
     "output_type": "execute_result"
    },
    {
     "data": {
      "image/png": "[encoded data removed]",
      "text/plain": [
       "<Figure size 360x360 with 1 Axes>"
      ]
     },
     "metadata": {
      "needs_background": "light"
     },
     "output_type": "display_data"
    }
   ],
   "source": [
    "df2 = df[['label_code', 'exclaimation_count']]\n",
    "import seaborn as sns\n",
    "sns.catplot(y='exclaimation_count', x='label_code', data=df2, kind='point', aspect=1, )"
   ]
  },
  {
   "cell_type": "code",
   "execution_count": 28,
   "metadata": {
    "ExecuteTime": {
     "end_time": "2021-01-08T05:31:47.996746Z",
     "start_time": "2021-01-08T05:31:47.411767Z"
    }
   },
   "outputs": [
    {
     "data": {
      "text/plain": [
       "<seaborn.axisgrid.FacetGrid at 0x7f862893a400>"
      ]
     },
     "execution_count": 28,
     "metadata": {},
     "output_type": "execute_result"
    },
    {
     "data": {
      "image/png": "[encoded data removed]",
      "text/plain": [
       "<Figure size 360x360 with 1 Axes>"
      ]
     },
     "metadata": {
      "needs_background": "light"
     },
     "output_type": "display_data"
    }
   ],
   "source": [
    "df2 = df[['label_code', 'question_count']]\n",
    "import seaborn as sns\n",
    "sns.catplot(y='question_count', x='label_code', data=df2, kind='point', aspect=1, )"
   ]
  },
  {
   "cell_type": "code",
   "execution_count": 29,
   "metadata": {
    "ExecuteTime": {
     "end_time": "2021-01-08T05:32:33.375763Z",
     "start_time": "2021-01-08T05:32:32.686436Z"
    }
   },
   "outputs": [
    {
     "data": {
      "text/plain": [
       "<seaborn.axisgrid.FacetGrid at 0x7f8628870d60>"
      ]
     },
     "execution_count": 29,
     "metadata": {},
     "output_type": "execute_result"
    },
    {
     "data": {
      "image/png": "[encoded data removed]",
      "text/plain": [
       "<Figure size 360x360 with 1 Axes>"
      ]
     },
     "metadata": {
      "needs_background": "light"
     },
     "output_type": "display_data"
    }
   ],
   "source": [
    "df2 = df[['label_code', 'has_profanity']]\n",
    "import seaborn as sns\n",
    "sns.catplot(y='has_profanity', x='label_code', data=df2, kind='point', aspect=1, )"
   ]
  },
  {
   "cell_type": "code",
   "execution_count": null,
   "metadata": {},
   "outputs": [],
   "source": []
  }
 ],
 "metadata": {
  "kernelspec": {
   "display_name": "Python 3",
   "language": "python",
   "name": "python3"
  },
  "language_info": {
   "codemirror_mode": {
    "name": "ipython",
    "version": 3
   },
   "file_extension": ".py",
   "mimetype": "text/x-python",
   "name": "python",
   "nbconvert_exporter": "python",
   "pygments_lexer": "ipython3",
   "version": "3.8.5"
  }
 },
 "nbformat": 4,
 "nbformat_minor": 4
}
